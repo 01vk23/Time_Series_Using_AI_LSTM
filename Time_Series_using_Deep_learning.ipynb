{
 "cells": [
  {
   "cell_type": "code",
   "execution_count": 1,
   "id": "b9c8ed40",
   "metadata": {},
   "outputs": [],
   "source": [
    "# Importing Basic Libraries\n",
    "\n",
    "import pandas as pd\n",
    "import matplotlib.pyplot as plt\n",
    "import seaborn as sns"
   ]
  },
  {
   "cell_type": "code",
   "execution_count": 2,
   "id": "df3ddd8d",
   "metadata": {},
   "outputs": [],
   "source": [
    "df_weather = pd.read_excel('weather.xlsx')\n",
    "df_checkpoint = pd.read_excel('Checkpoint_count.xlsx')"
   ]
  },
  {
   "cell_type": "code",
   "execution_count": null,
   "id": "2263ca1b",
   "metadata": {},
   "outputs": [],
   "source": []
  },
  {
   "cell_type": "code",
   "execution_count": 3,
   "id": "91804747",
   "metadata": {},
   "outputs": [
    {
     "data": {
      "text/html": [
       "<div>\n",
       "<style scoped>\n",
       "    .dataframe tbody tr th:only-of-type {\n",
       "        vertical-align: middle;\n",
       "    }\n",
       "\n",
       "    .dataframe tbody tr th {\n",
       "        vertical-align: top;\n",
       "    }\n",
       "\n",
       "    .dataframe thead th {\n",
       "        text-align: right;\n",
       "    }\n",
       "</style>\n",
       "<table border=\"1\" class=\"dataframe\">\n",
       "  <thead>\n",
       "    <tr style=\"text-align: right;\">\n",
       "      <th></th>\n",
       "      <th>Date</th>\n",
       "      <th>Time</th>\n",
       "      <th>check_point0</th>\n",
       "      <th>check_point1</th>\n",
       "      <th>check_point2</th>\n",
       "      <th>check_point3</th>\n",
       "      <th>check_point4</th>\n",
       "      <th>check_point5</th>\n",
       "      <th>check_point6</th>\n",
       "      <th>check_point7</th>\n",
       "      <th>...</th>\n",
       "      <th>check_point11</th>\n",
       "      <th>check_point12</th>\n",
       "      <th>check_point13</th>\n",
       "      <th>check_point14</th>\n",
       "      <th>check_point15</th>\n",
       "      <th>check_point16</th>\n",
       "      <th>check_point17</th>\n",
       "      <th>check_point18</th>\n",
       "      <th>check_point19</th>\n",
       "      <th>check_point20</th>\n",
       "    </tr>\n",
       "  </thead>\n",
       "  <tbody>\n",
       "    <tr>\n",
       "      <th>0</th>\n",
       "      <td>2015-01-01 00:00:00</td>\n",
       "      <td>00:00:00</td>\n",
       "      <td>58</td>\n",
       "      <td>12</td>\n",
       "      <td>4</td>\n",
       "      <td>17</td>\n",
       "      <td>33.0</td>\n",
       "      <td>49</td>\n",
       "      <td>21</td>\n",
       "      <td>16</td>\n",
       "      <td>...</td>\n",
       "      <td>NaN</td>\n",
       "      <td>58</td>\n",
       "      <td>91</td>\n",
       "      <td>24</td>\n",
       "      <td>3</td>\n",
       "      <td>NaN</td>\n",
       "      <td>17</td>\n",
       "      <td>78</td>\n",
       "      <td>21</td>\n",
       "      <td>6</td>\n",
       "    </tr>\n",
       "    <tr>\n",
       "      <th>1</th>\n",
       "      <td>2015-02-01 00:00:00</td>\n",
       "      <td>00:00:00</td>\n",
       "      <td>75</td>\n",
       "      <td>7</td>\n",
       "      <td>5</td>\n",
       "      <td>15</td>\n",
       "      <td>30.0</td>\n",
       "      <td>113</td>\n",
       "      <td>27</td>\n",
       "      <td>9</td>\n",
       "      <td>...</td>\n",
       "      <td>NaN</td>\n",
       "      <td>109</td>\n",
       "      <td>177</td>\n",
       "      <td>32</td>\n",
       "      <td>13</td>\n",
       "      <td>NaN</td>\n",
       "      <td>11</td>\n",
       "      <td>57</td>\n",
       "      <td>77</td>\n",
       "      <td>4</td>\n",
       "    </tr>\n",
       "    <tr>\n",
       "      <th>2</th>\n",
       "      <td>2015-03-01 00:00:00</td>\n",
       "      <td>00:00:00</td>\n",
       "      <td>79</td>\n",
       "      <td>7</td>\n",
       "      <td>3</td>\n",
       "      <td>7</td>\n",
       "      <td>30.0</td>\n",
       "      <td>107</td>\n",
       "      <td>36</td>\n",
       "      <td>12</td>\n",
       "      <td>...</td>\n",
       "      <td>NaN</td>\n",
       "      <td>71</td>\n",
       "      <td>131</td>\n",
       "      <td>33</td>\n",
       "      <td>5</td>\n",
       "      <td>NaN</td>\n",
       "      <td>14</td>\n",
       "      <td>174</td>\n",
       "      <td>40</td>\n",
       "      <td>5</td>\n",
       "    </tr>\n",
       "    <tr>\n",
       "      <th>3</th>\n",
       "      <td>2015-04-01 00:00:00</td>\n",
       "      <td>00:00:00</td>\n",
       "      <td>10</td>\n",
       "      <td>1</td>\n",
       "      <td>21</td>\n",
       "      <td>0</td>\n",
       "      <td>10.0</td>\n",
       "      <td>35</td>\n",
       "      <td>29</td>\n",
       "      <td>1</td>\n",
       "      <td>...</td>\n",
       "      <td>NaN</td>\n",
       "      <td>6</td>\n",
       "      <td>11</td>\n",
       "      <td>6</td>\n",
       "      <td>1</td>\n",
       "      <td>NaN</td>\n",
       "      <td>1</td>\n",
       "      <td>20</td>\n",
       "      <td>6</td>\n",
       "      <td>0</td>\n",
       "    </tr>\n",
       "    <tr>\n",
       "      <th>4</th>\n",
       "      <td>2015-05-01 00:00:00</td>\n",
       "      <td>00:00:00</td>\n",
       "      <td>42</td>\n",
       "      <td>0</td>\n",
       "      <td>2</td>\n",
       "      <td>0</td>\n",
       "      <td>27.0</td>\n",
       "      <td>90</td>\n",
       "      <td>21</td>\n",
       "      <td>1</td>\n",
       "      <td>...</td>\n",
       "      <td>NaN</td>\n",
       "      <td>0</td>\n",
       "      <td>5</td>\n",
       "      <td>49</td>\n",
       "      <td>20</td>\n",
       "      <td>NaN</td>\n",
       "      <td>0</td>\n",
       "      <td>41</td>\n",
       "      <td>56</td>\n",
       "      <td>10</td>\n",
       "    </tr>\n",
       "  </tbody>\n",
       "</table>\n",
       "<p>5 rows × 23 columns</p>\n",
       "</div>"
      ],
      "text/plain": [
       "                  Date      Time  check_point0  check_point1  check_point2  \\\n",
       "0  2015-01-01 00:00:00  00:00:00            58            12             4   \n",
       "1  2015-02-01 00:00:00  00:00:00            75             7             5   \n",
       "2  2015-03-01 00:00:00  00:00:00            79             7             3   \n",
       "3  2015-04-01 00:00:00  00:00:00            10             1            21   \n",
       "4  2015-05-01 00:00:00  00:00:00            42             0             2   \n",
       "\n",
       "   check_point3  check_point4  check_point5  check_point6  check_point7  ...  \\\n",
       "0            17          33.0            49            21            16  ...   \n",
       "1            15          30.0           113            27             9  ...   \n",
       "2             7          30.0           107            36            12  ...   \n",
       "3             0          10.0            35            29             1  ...   \n",
       "4             0          27.0            90            21             1  ...   \n",
       "\n",
       "   check_point11  check_point12  check_point13  check_point14  check_point15  \\\n",
       "0            NaN             58             91             24              3   \n",
       "1            NaN            109            177             32             13   \n",
       "2            NaN             71            131             33              5   \n",
       "3            NaN              6             11              6              1   \n",
       "4            NaN              0              5             49             20   \n",
       "\n",
       "   check_point16  check_point17  check_point18  check_point19  check_point20  \n",
       "0            NaN             17             78             21              6  \n",
       "1            NaN             11             57             77              4  \n",
       "2            NaN             14            174             40              5  \n",
       "3            NaN              1             20              6              0  \n",
       "4            NaN              0             41             56             10  \n",
       "\n",
       "[5 rows x 23 columns]"
      ]
     },
     "execution_count": 3,
     "metadata": {},
     "output_type": "execute_result"
    }
   ],
   "source": [
    "df_checkpoint.head()"
   ]
  },
  {
   "cell_type": "code",
   "execution_count": 4,
   "id": "8ca279ba",
   "metadata": {},
   "outputs": [],
   "source": [
    "min_1 = df_checkpoint['check_point0'].min()"
   ]
  },
  {
   "cell_type": "code",
   "execution_count": 6,
   "id": "7b65213d",
   "metadata": {},
   "outputs": [],
   "source": [
    "max_1 = df_checkpoint['check_point0'].max()"
   ]
  },
  {
   "cell_type": "code",
   "execution_count": 7,
   "id": "c0eb2901",
   "metadata": {},
   "outputs": [],
   "source": [
    "mean_1 = df_checkpoint['check_point0'].mean()"
   ]
  },
  {
   "cell_type": "code",
   "execution_count": 10,
   "id": "f433c8b4",
   "metadata": {},
   "outputs": [],
   "source": [
    "df_checkpoint['check_point0'] = (df_checkpoint['check_point0'] - min_1)/ (max_1 - min_1)"
   ]
  },
  {
   "cell_type": "code",
   "execution_count": 9,
   "id": "b9c9c04f",
   "metadata": {},
   "outputs": [
    {
     "data": {
      "text/plain": [
       "0     -0.387339\n",
       "1     -0.385034\n",
       "2     -0.384492\n",
       "3     -0.393845\n",
       "4     -0.389508\n",
       "         ...   \n",
       "314    0.017433\n",
       "315   -0.157842\n",
       "316   -0.148759\n",
       "317   -0.262491\n",
       "318   -0.271438\n",
       "Name: check_point0, Length: 319, dtype: float64"
      ]
     },
     "execution_count": 9,
     "metadata": {},
     "output_type": "execute_result"
    }
   ],
   "source": [
    "df_checkpoint['check_point0']"
   ]
  },
  {
   "cell_type": "code",
   "execution_count": null,
   "id": "d25bed05",
   "metadata": {},
   "outputs": [],
   "source": []
  },
  {
   "cell_type": "code",
   "execution_count": 3,
   "id": "e0028589",
   "metadata": {},
   "outputs": [],
   "source": [
    "header = df_weather.loc[1]"
   ]
  },
  {
   "cell_type": "code",
   "execution_count": 4,
   "id": "275cb066",
   "metadata": {},
   "outputs": [],
   "source": [
    "df_weather = df_weather[2:]"
   ]
  },
  {
   "cell_type": "code",
   "execution_count": 5,
   "id": "544beeff",
   "metadata": {},
   "outputs": [],
   "source": [
    "df_weather.columns = header"
   ]
  },
  {
   "cell_type": "code",
   "execution_count": 6,
   "id": "166b3bcd",
   "metadata": {},
   "outputs": [],
   "source": [
    "df_weather.reset_index(inplace = True)"
   ]
  },
  {
   "cell_type": "code",
   "execution_count": 7,
   "id": "6a981cc9",
   "metadata": {},
   "outputs": [
    {
     "data": {
      "text/html": [
       "<div>\n",
       "<style scoped>\n",
       "    .dataframe tbody tr th:only-of-type {\n",
       "        vertical-align: middle;\n",
       "    }\n",
       "\n",
       "    .dataframe tbody tr th {\n",
       "        vertical-align: top;\n",
       "    }\n",
       "\n",
       "    .dataframe thead th {\n",
       "        text-align: right;\n",
       "    }\n",
       "</style>\n",
       "<table border=\"1\" class=\"dataframe\">\n",
       "  <thead>\n",
       "    <tr style=\"text-align: right;\">\n",
       "      <th></th>\n",
       "      <th>Date</th>\n",
       "      <th>Time</th>\n",
       "      <th>check_point0</th>\n",
       "      <th>check_point1</th>\n",
       "      <th>check_point2</th>\n",
       "      <th>check_point3</th>\n",
       "      <th>check_point4</th>\n",
       "      <th>check_point5</th>\n",
       "      <th>check_point6</th>\n",
       "      <th>check_point7</th>\n",
       "      <th>...</th>\n",
       "      <th>check_point11</th>\n",
       "      <th>check_point12</th>\n",
       "      <th>check_point13</th>\n",
       "      <th>check_point14</th>\n",
       "      <th>check_point15</th>\n",
       "      <th>check_point16</th>\n",
       "      <th>check_point17</th>\n",
       "      <th>check_point18</th>\n",
       "      <th>check_point19</th>\n",
       "      <th>check_point20</th>\n",
       "    </tr>\n",
       "  </thead>\n",
       "  <tbody>\n",
       "    <tr>\n",
       "      <th>0</th>\n",
       "      <td>2015-01-01 00:00:00</td>\n",
       "      <td>00:00:00</td>\n",
       "      <td>58</td>\n",
       "      <td>12</td>\n",
       "      <td>4</td>\n",
       "      <td>17</td>\n",
       "      <td>33.0</td>\n",
       "      <td>49</td>\n",
       "      <td>21</td>\n",
       "      <td>16</td>\n",
       "      <td>...</td>\n",
       "      <td>NaN</td>\n",
       "      <td>58</td>\n",
       "      <td>91</td>\n",
       "      <td>24</td>\n",
       "      <td>3</td>\n",
       "      <td>NaN</td>\n",
       "      <td>17</td>\n",
       "      <td>78</td>\n",
       "      <td>21</td>\n",
       "      <td>6</td>\n",
       "    </tr>\n",
       "    <tr>\n",
       "      <th>1</th>\n",
       "      <td>2015-02-01 00:00:00</td>\n",
       "      <td>00:00:00</td>\n",
       "      <td>75</td>\n",
       "      <td>7</td>\n",
       "      <td>5</td>\n",
       "      <td>15</td>\n",
       "      <td>30.0</td>\n",
       "      <td>113</td>\n",
       "      <td>27</td>\n",
       "      <td>9</td>\n",
       "      <td>...</td>\n",
       "      <td>NaN</td>\n",
       "      <td>109</td>\n",
       "      <td>177</td>\n",
       "      <td>32</td>\n",
       "      <td>13</td>\n",
       "      <td>NaN</td>\n",
       "      <td>11</td>\n",
       "      <td>57</td>\n",
       "      <td>77</td>\n",
       "      <td>4</td>\n",
       "    </tr>\n",
       "    <tr>\n",
       "      <th>2</th>\n",
       "      <td>2015-03-01 00:00:00</td>\n",
       "      <td>00:00:00</td>\n",
       "      <td>79</td>\n",
       "      <td>7</td>\n",
       "      <td>3</td>\n",
       "      <td>7</td>\n",
       "      <td>30.0</td>\n",
       "      <td>107</td>\n",
       "      <td>36</td>\n",
       "      <td>12</td>\n",
       "      <td>...</td>\n",
       "      <td>NaN</td>\n",
       "      <td>71</td>\n",
       "      <td>131</td>\n",
       "      <td>33</td>\n",
       "      <td>5</td>\n",
       "      <td>NaN</td>\n",
       "      <td>14</td>\n",
       "      <td>174</td>\n",
       "      <td>40</td>\n",
       "      <td>5</td>\n",
       "    </tr>\n",
       "    <tr>\n",
       "      <th>3</th>\n",
       "      <td>2015-04-01 00:00:00</td>\n",
       "      <td>00:00:00</td>\n",
       "      <td>10</td>\n",
       "      <td>1</td>\n",
       "      <td>21</td>\n",
       "      <td>0</td>\n",
       "      <td>10.0</td>\n",
       "      <td>35</td>\n",
       "      <td>29</td>\n",
       "      <td>1</td>\n",
       "      <td>...</td>\n",
       "      <td>NaN</td>\n",
       "      <td>6</td>\n",
       "      <td>11</td>\n",
       "      <td>6</td>\n",
       "      <td>1</td>\n",
       "      <td>NaN</td>\n",
       "      <td>1</td>\n",
       "      <td>20</td>\n",
       "      <td>6</td>\n",
       "      <td>0</td>\n",
       "    </tr>\n",
       "    <tr>\n",
       "      <th>4</th>\n",
       "      <td>2015-05-01 00:00:00</td>\n",
       "      <td>00:00:00</td>\n",
       "      <td>42</td>\n",
       "      <td>0</td>\n",
       "      <td>2</td>\n",
       "      <td>0</td>\n",
       "      <td>27.0</td>\n",
       "      <td>90</td>\n",
       "      <td>21</td>\n",
       "      <td>1</td>\n",
       "      <td>...</td>\n",
       "      <td>NaN</td>\n",
       "      <td>0</td>\n",
       "      <td>5</td>\n",
       "      <td>49</td>\n",
       "      <td>20</td>\n",
       "      <td>NaN</td>\n",
       "      <td>0</td>\n",
       "      <td>41</td>\n",
       "      <td>56</td>\n",
       "      <td>10</td>\n",
       "    </tr>\n",
       "  </tbody>\n",
       "</table>\n",
       "<p>5 rows × 23 columns</p>\n",
       "</div>"
      ],
      "text/plain": [
       "                  Date      Time  check_point0  check_point1  check_point2  \\\n",
       "0  2015-01-01 00:00:00  00:00:00            58            12             4   \n",
       "1  2015-02-01 00:00:00  00:00:00            75             7             5   \n",
       "2  2015-03-01 00:00:00  00:00:00            79             7             3   \n",
       "3  2015-04-01 00:00:00  00:00:00            10             1            21   \n",
       "4  2015-05-01 00:00:00  00:00:00            42             0             2   \n",
       "\n",
       "   check_point3  check_point4  check_point5  check_point6  check_point7  ...  \\\n",
       "0            17          33.0            49            21            16  ...   \n",
       "1            15          30.0           113            27             9  ...   \n",
       "2             7          30.0           107            36            12  ...   \n",
       "3             0          10.0            35            29             1  ...   \n",
       "4             0          27.0            90            21             1  ...   \n",
       "\n",
       "   check_point11  check_point12  check_point13  check_point14  check_point15  \\\n",
       "0            NaN             58             91             24              3   \n",
       "1            NaN            109            177             32             13   \n",
       "2            NaN             71            131             33              5   \n",
       "3            NaN              6             11              6              1   \n",
       "4            NaN              0              5             49             20   \n",
       "\n",
       "   check_point16  check_point17  check_point18  check_point19  check_point20  \n",
       "0            NaN             17             78             21              6  \n",
       "1            NaN             11             57             77              4  \n",
       "2            NaN             14            174             40              5  \n",
       "3            NaN              1             20              6              0  \n",
       "4            NaN              0             41             56             10  \n",
       "\n",
       "[5 rows x 23 columns]"
      ]
     },
     "execution_count": 7,
     "metadata": {},
     "output_type": "execute_result"
    }
   ],
   "source": [
    "df_checkpoint.head()"
   ]
  },
  {
   "cell_type": "code",
   "execution_count": 8,
   "id": "ab0bdf72",
   "metadata": {},
   "outputs": [
    {
     "data": {
      "text/html": [
       "<div>\n",
       "<style scoped>\n",
       "    .dataframe tbody tr th:only-of-type {\n",
       "        vertical-align: middle;\n",
       "    }\n",
       "\n",
       "    .dataframe tbody tr th {\n",
       "        vertical-align: top;\n",
       "    }\n",
       "\n",
       "    .dataframe thead th {\n",
       "        text-align: right;\n",
       "    }\n",
       "</style>\n",
       "<table border=\"1\" class=\"dataframe\">\n",
       "  <thead>\n",
       "    <tr style=\"text-align: right;\">\n",
       "      <th>1</th>\n",
       "      <th>index</th>\n",
       "      <th>Date/Time</th>\n",
       "      <th>Year</th>\n",
       "      <th>Month</th>\n",
       "      <th>Day</th>\n",
       "      <th>Data Quality</th>\n",
       "      <th>Max Temp (°C)</th>\n",
       "      <th>Max Temp Flag</th>\n",
       "      <th>Min Temp (°C)</th>\n",
       "      <th>Min Temp Flag</th>\n",
       "      <th>...</th>\n",
       "      <th>Total Snow (cm)</th>\n",
       "      <th>Total Snow Flag</th>\n",
       "      <th>Total Precip (mm)</th>\n",
       "      <th>Total Precip Flag</th>\n",
       "      <th>Snow on Grnd (cm)</th>\n",
       "      <th>Snow on Grnd Flag</th>\n",
       "      <th>Dir of Max Gust (10s deg)</th>\n",
       "      <th>Dir of Max Gust Flag</th>\n",
       "      <th>Spd of Max Gust (km/h)</th>\n",
       "      <th>Spd of Max Gust Flag</th>\n",
       "    </tr>\n",
       "  </thead>\n",
       "  <tbody>\n",
       "    <tr>\n",
       "      <th>0</th>\n",
       "      <td>2</td>\n",
       "      <td>2015-01-01 00:00:00</td>\n",
       "      <td>2015</td>\n",
       "      <td>1</td>\n",
       "      <td>1</td>\n",
       "      <td>‡</td>\n",
       "      <td>-3</td>\n",
       "      <td>NaN</td>\n",
       "      <td>-7.6</td>\n",
       "      <td>NaN</td>\n",
       "      <td>...</td>\n",
       "      <td>1.8</td>\n",
       "      <td>NaN</td>\n",
       "      <td>1.8</td>\n",
       "      <td>NaN</td>\n",
       "      <td>0</td>\n",
       "      <td>NaN</td>\n",
       "      <td>22</td>\n",
       "      <td>NaN</td>\n",
       "      <td>63</td>\n",
       "      <td>NaN</td>\n",
       "    </tr>\n",
       "    <tr>\n",
       "      <th>1</th>\n",
       "      <td>3</td>\n",
       "      <td>2015-01-02 00:00:00</td>\n",
       "      <td>2015</td>\n",
       "      <td>1</td>\n",
       "      <td>2</td>\n",
       "      <td>‡</td>\n",
       "      <td>-3.4</td>\n",
       "      <td>NaN</td>\n",
       "      <td>-14.2</td>\n",
       "      <td>NaN</td>\n",
       "      <td>...</td>\n",
       "      <td>0</td>\n",
       "      <td>T</td>\n",
       "      <td>0</td>\n",
       "      <td>T</td>\n",
       "      <td>1</td>\n",
       "      <td>NaN</td>\n",
       "      <td>27</td>\n",
       "      <td>NaN</td>\n",
       "      <td>50</td>\n",
       "      <td>NaN</td>\n",
       "    </tr>\n",
       "    <tr>\n",
       "      <th>2</th>\n",
       "      <td>4</td>\n",
       "      <td>2015-01-03 00:00:00</td>\n",
       "      <td>2015</td>\n",
       "      <td>1</td>\n",
       "      <td>3</td>\n",
       "      <td>‡</td>\n",
       "      <td>-8.5</td>\n",
       "      <td>NaN</td>\n",
       "      <td>-17.7</td>\n",
       "      <td>NaN</td>\n",
       "      <td>...</td>\n",
       "      <td>17</td>\n",
       "      <td>NaN</td>\n",
       "      <td>17</td>\n",
       "      <td>NaN</td>\n",
       "      <td>1</td>\n",
       "      <td>NaN</td>\n",
       "      <td>3</td>\n",
       "      <td>NaN</td>\n",
       "      <td>41</td>\n",
       "      <td>NaN</td>\n",
       "    </tr>\n",
       "    <tr>\n",
       "      <th>3</th>\n",
       "      <td>5</td>\n",
       "      <td>2015-01-04 00:00:00</td>\n",
       "      <td>2015</td>\n",
       "      <td>1</td>\n",
       "      <td>4</td>\n",
       "      <td>‡</td>\n",
       "      <td>3</td>\n",
       "      <td>NaN</td>\n",
       "      <td>-8.6</td>\n",
       "      <td>NaN</td>\n",
       "      <td>...</td>\n",
       "      <td>0.4</td>\n",
       "      <td>NaN</td>\n",
       "      <td>27.2</td>\n",
       "      <td>NaN</td>\n",
       "      <td>8</td>\n",
       "      <td>NaN</td>\n",
       "      <td>26</td>\n",
       "      <td>NaN</td>\n",
       "      <td>69</td>\n",
       "      <td>NaN</td>\n",
       "    </tr>\n",
       "    <tr>\n",
       "      <th>4</th>\n",
       "      <td>6</td>\n",
       "      <td>2015-01-05 00:00:00</td>\n",
       "      <td>2015</td>\n",
       "      <td>1</td>\n",
       "      <td>5</td>\n",
       "      <td>‡</td>\n",
       "      <td>-5.3</td>\n",
       "      <td>NaN</td>\n",
       "      <td>-17.9</td>\n",
       "      <td>NaN</td>\n",
       "      <td>...</td>\n",
       "      <td>0</td>\n",
       "      <td>T</td>\n",
       "      <td>0</td>\n",
       "      <td>T</td>\n",
       "      <td>6</td>\n",
       "      <td>NaN</td>\n",
       "      <td>27</td>\n",
       "      <td>NaN</td>\n",
       "      <td>74</td>\n",
       "      <td>NaN</td>\n",
       "    </tr>\n",
       "  </tbody>\n",
       "</table>\n",
       "<p>5 rows × 28 columns</p>\n",
       "</div>"
      ],
      "text/plain": [
       "1  index            Date/Time  Year Month Day Data Quality Max Temp (°C)  \\\n",
       "0      2  2015-01-01 00:00:00  2015     1   1            ‡            -3   \n",
       "1      3  2015-01-02 00:00:00  2015     1   2            ‡          -3.4   \n",
       "2      4  2015-01-03 00:00:00  2015     1   3            ‡          -8.5   \n",
       "3      5  2015-01-04 00:00:00  2015     1   4            ‡             3   \n",
       "4      6  2015-01-05 00:00:00  2015     1   5            ‡          -5.3   \n",
       "\n",
       "1 Max Temp Flag Min Temp (°C) Min Temp Flag  ... Total Snow (cm)  \\\n",
       "0           NaN          -7.6           NaN  ...             1.8   \n",
       "1           NaN         -14.2           NaN  ...               0   \n",
       "2           NaN         -17.7           NaN  ...              17   \n",
       "3           NaN          -8.6           NaN  ...             0.4   \n",
       "4           NaN         -17.9           NaN  ...               0   \n",
       "\n",
       "1 Total Snow Flag Total Precip (mm) Total Precip Flag Snow on Grnd (cm)  \\\n",
       "0             NaN               1.8               NaN                 0   \n",
       "1               T                 0                 T                 1   \n",
       "2             NaN                17               NaN                 1   \n",
       "3             NaN              27.2               NaN                 8   \n",
       "4               T                 0                 T                 6   \n",
       "\n",
       "1 Snow on Grnd Flag Dir of Max Gust (10s deg) Dir of Max Gust Flag  \\\n",
       "0               NaN                        22                  NaN   \n",
       "1               NaN                        27                  NaN   \n",
       "2               NaN                         3                  NaN   \n",
       "3               NaN                        26                  NaN   \n",
       "4               NaN                        27                  NaN   \n",
       "\n",
       "1 Spd of Max Gust (km/h) Spd of Max Gust Flag  \n",
       "0                     63                  NaN  \n",
       "1                     50                  NaN  \n",
       "2                     41                  NaN  \n",
       "3                     69                  NaN  \n",
       "4                     74                  NaN  \n",
       "\n",
       "[5 rows x 28 columns]"
      ]
     },
     "execution_count": 8,
     "metadata": {},
     "output_type": "execute_result"
    }
   ],
   "source": [
    "df_weather.head()"
   ]
  },
  {
   "cell_type": "code",
   "execution_count": 9,
   "id": "ea1ada1c",
   "metadata": {},
   "outputs": [],
   "source": [
    "df = df_checkpoint.drop(['Date','Time'], axis = 1)"
   ]
  },
  {
   "cell_type": "code",
   "execution_count": null,
   "id": "c424d217",
   "metadata": {},
   "outputs": [],
   "source": []
  },
  {
   "cell_type": "code",
   "execution_count": 10,
   "id": "b6596517",
   "metadata": {},
   "outputs": [],
   "source": [
    "## Check for corelation between various checkpoints"
   ]
  },
  {
   "cell_type": "code",
   "execution_count": 11,
   "id": "37c24e42",
   "metadata": {},
   "outputs": [
    {
     "data": {
      "image/png": "[encoded data removed]",
      "text/plain": [
       "<Figure size 1008x1008 with 2 Axes>"
      ]
     },
     "metadata": {
      "needs_background": "light"
     },
     "output_type": "display_data"
    }
   ],
   "source": [
    "corr_matrix = df.corr()\n",
    "\n",
    "\n",
    "plt.figure(figsize=(14, 14)) \n",
    "\n",
    "# Generate a heatmap of the correlation matrix\n",
    "sns.heatmap(corr_matrix, cmap='coolwarm', annot=True)\n",
    "\n",
    "\n",
    "\n",
    "# Set the plot title\n",
    "plt.title('Correlation Matrix')\n",
    "\n",
    "# Show the plot\n",
    "plt.show()"
   ]
  },
  {
   "cell_type": "code",
   "execution_count": 12,
   "id": "5ce71a38",
   "metadata": {},
   "outputs": [],
   "source": [
    "# We can see Very High corelation between Various checkpoints"
   ]
  },
  {
   "cell_type": "code",
   "execution_count": null,
   "id": "712990c3",
   "metadata": {},
   "outputs": [],
   "source": []
  },
  {
   "cell_type": "code",
   "execution_count": 13,
   "id": "028a0429",
   "metadata": {},
   "outputs": [],
   "source": [
    "# Checking for Null Values for Various check points "
   ]
  },
  {
   "cell_type": "code",
   "execution_count": 14,
   "id": "5e55fb1a",
   "metadata": {},
   "outputs": [
    {
     "name": "stdout",
     "output_type": "stream",
     "text": [
      "[0, 0, 0, 0, 257, 0, 0, 0, 0, 267, 0, 110, 0, 0, 0, 0, 269, 0, 0, 0, 0]\n"
     ]
    }
   ],
   "source": [
    "lst = []\n",
    "for x in df.columns:\n",
    "    lst.append(df[x].isna().sum())\n",
    "print(lst)"
   ]
  },
  {
   "cell_type": "code",
   "execution_count": 15,
   "id": "8e87fbfd",
   "metadata": {},
   "outputs": [],
   "source": [
    "# Checkpoint 4, 9, 11 and 16 having Missing Values, \n",
    "# We will try to impute them using various techniques and we can see a lot of missing Values "
   ]
  },
  {
   "cell_type": "code",
   "execution_count": 16,
   "id": "a8f5e534",
   "metadata": {},
   "outputs": [
    {
     "data": {
      "text/plain": [
       "0"
      ]
     },
     "execution_count": 16,
     "metadata": {},
     "output_type": "execute_result"
    }
   ],
   "source": [
    "df['check_point4'][0:62].isna().sum()"
   ]
  },
  {
   "cell_type": "code",
   "execution_count": null,
   "id": "ffdaab71",
   "metadata": {},
   "outputs": [],
   "source": []
  },
  {
   "cell_type": "code",
   "execution_count": 17,
   "id": "cbf645ef",
   "metadata": {},
   "outputs": [],
   "source": [
    "# Checking Correlation for Variables having Missing Values with weather data and the checkpoint data "
   ]
  },
  {
   "cell_type": "code",
   "execution_count": 18,
   "id": "8296a2eb",
   "metadata": {},
   "outputs": [
    {
     "name": "stdout",
     "output_type": "stream",
     "text": [
      "[0.908638230899081, 0.03450712677725077, 0.19234662740187394, 0.6317660255608477, 1.0, 0.8891271343363318, 0.7395775134550667, 0.5376924155237659, 0.45812258670946565, nan, 0.010603024846453986, nan, 0.745725456375589, 0.6594796936267973, 0.8414452078587554, 0.8364031578266607, nan, 0.11797881230426814, 0.4660083292676928, 0.8836023089243884, 0.8221011450895678]\n"
     ]
    }
   ],
   "source": [
    "corr_cp4 = []\n",
    "for x in df.columns:\n",
    "    corr_cp4.append(df['check_point4'][0:62].corr(df[x][0:62]))\n",
    "print(corr_cp4)\n",
    "    "
   ]
  },
  {
   "cell_type": "code",
   "execution_count": 19,
   "id": "4ce0d23f",
   "metadata": {},
   "outputs": [],
   "source": [
    "df_weather.drop(['index'],inplace = True, axis =1)"
   ]
  },
  {
   "cell_type": "code",
   "execution_count": 20,
   "id": "52b0b6e7",
   "metadata": {},
   "outputs": [],
   "source": [
    "df1 = df_weather"
   ]
  },
  {
   "cell_type": "code",
   "execution_count": 21,
   "id": "d03a0759",
   "metadata": {},
   "outputs": [],
   "source": [
    "df1 = df1.drop(['Data Quality'],axis = 1)"
   ]
  },
  {
   "cell_type": "code",
   "execution_count": 22,
   "id": "dd24615c",
   "metadata": {},
   "outputs": [
    {
     "name": "stdout",
     "output_type": "stream",
     "text": [
      "<class 'pandas.core.frame.DataFrame'>\n",
      "RangeIndex: 365 entries, 0 to 364\n",
      "Data columns (total 26 columns):\n",
      " #   Column                     Non-Null Count  Dtype \n",
      "---  ------                     --------------  ----- \n",
      " 0   Date/Time                  365 non-null    object\n",
      " 1   Year                       365 non-null    object\n",
      " 2   Month                      365 non-null    object\n",
      " 3   Day                        365 non-null    object\n",
      " 4   Max Temp (°C)              365 non-null    object\n",
      " 5   Max Temp Flag              0 non-null      object\n",
      " 6   Min Temp (°C)              365 non-null    object\n",
      " 7   Min Temp Flag              1 non-null      object\n",
      " 8   Mean Temp (°C)             365 non-null    object\n",
      " 9   Mean Temp Flag             1 non-null      object\n",
      " 10  Heat Deg Days (°C)         365 non-null    object\n",
      " 11  Heat Deg Days Flag         1 non-null      object\n",
      " 12  Cool Deg Days (°C)         365 non-null    object\n",
      " 13  Cool Deg Days Flag         1 non-null      object\n",
      " 14  Total Rain (mm)            352 non-null    object\n",
      " 15  Total Rain Flag            43 non-null     object\n",
      " 16  Total Snow (cm)            361 non-null    object\n",
      " 17  Total Snow Flag            33 non-null     object\n",
      " 18  Total Precip (mm)          355 non-null    object\n",
      " 19  Total Precip Flag          63 non-null     object\n",
      " 20  Snow on Grnd (cm)          109 non-null    object\n",
      " 21  Snow on Grnd Flag          0 non-null      object\n",
      " 22  Dir of Max Gust (10s deg)  283 non-null    object\n",
      " 23  Dir of Max Gust Flag       1 non-null      object\n",
      " 24  Spd of Max Gust (km/h)     364 non-null    object\n",
      " 25  Spd of Max Gust Flag       1 non-null      object\n",
      "dtypes: object(26)\n",
      "memory usage: 74.3+ KB\n"
     ]
    }
   ],
   "source": [
    "df1.info()"
   ]
  },
  {
   "cell_type": "code",
   "execution_count": 23,
   "id": "076edbc3",
   "metadata": {},
   "outputs": [],
   "source": [
    " df1 = df1.loc[:, ::2]"
   ]
  },
  {
   "cell_type": "code",
   "execution_count": null,
   "id": "eb32063f",
   "metadata": {},
   "outputs": [],
   "source": []
  },
  {
   "cell_type": "code",
   "execution_count": 24,
   "id": "7c5a9f40",
   "metadata": {},
   "outputs": [],
   "source": [
    "# Replace <31 by 30 "
   ]
  },
  {
   "cell_type": "code",
   "execution_count": 25,
   "id": "b564970d",
   "metadata": {},
   "outputs": [],
   "source": [
    "def replace_31(row):\n",
    "    if row == '<31':\n",
    "        return 30\n",
    "    else:\n",
    "        return row"
   ]
  },
  {
   "cell_type": "code",
   "execution_count": 26,
   "id": "9ecfe86c",
   "metadata": {},
   "outputs": [],
   "source": [
    "df1['Spd of Max Gust (km/h)'] = df1['Spd of Max Gust (km/h)'].apply(replace_31)"
   ]
  },
  {
   "cell_type": "code",
   "execution_count": 27,
   "id": "c3e78ab6",
   "metadata": {},
   "outputs": [
    {
     "data": {
      "text/plain": [
       "0      63.0\n",
       "1      50.0\n",
       "2      41.0\n",
       "3      69.0\n",
       "4      74.0\n",
       "       ... \n",
       "360    44.0\n",
       "361    44.0\n",
       "362    30.0\n",
       "363    30.0\n",
       "364    39.0\n",
       "Name: Spd of Max Gust (km/h), Length: 365, dtype: float64"
      ]
     },
     "execution_count": 27,
     "metadata": {},
     "output_type": "execute_result"
    }
   ],
   "source": [
    "df1['Spd of Max Gust (km/h)']"
   ]
  },
  {
   "cell_type": "code",
   "execution_count": 28,
   "id": "66e2a162",
   "metadata": {},
   "outputs": [
    {
     "name": "stdout",
     "output_type": "stream",
     "text": [
      "[0.02039476004462309, 0.06616009948853163, -0.04109512261304759, 0.015949631544665017, -0.01594963154466508, nan, -0.20186924592499703, -0.23968586066152375, -0.31925552716440525, 0.1850682275006534, 0.05454880024586484, -0.3525084745611068]\n"
     ]
    }
   ],
   "source": [
    "corr_w = []\n",
    "for x in df1.columns:\n",
    "    if x != 'Date/Time':\n",
    "        corr_w.append(df['check_point4'][0:62].corr(df1[x].astype(float)))\n",
    "        #print(corr_w)\n",
    "print(corr_w)\n",
    "    "
   ]
  },
  {
   "cell_type": "code",
   "execution_count": 29,
   "id": "aa622445",
   "metadata": {},
   "outputs": [
    {
     "data": {
      "text/plain": [
       "0         NaN\n",
       "1         NaN\n",
       "2         NaN\n",
       "3         NaN\n",
       "4         NaN\n",
       "        ...  \n",
       "314    3997.0\n",
       "315    2945.0\n",
       "316    1693.0\n",
       "317     604.0\n",
       "318     663.0\n",
       "Name: check_point9, Length: 319, dtype: float64"
      ]
     },
     "execution_count": 29,
     "metadata": {},
     "output_type": "execute_result"
    }
   ],
   "source": [
    "df['check_point9']"
   ]
  },
  {
   "cell_type": "code",
   "execution_count": 30,
   "id": "606bdc25",
   "metadata": {},
   "outputs": [
    {
     "name": "stdout",
     "output_type": "stream",
     "text": [
      "[0.6730081194457777, 0.4804488971634722, 0.6317854064299329, 0.7350656341805363, nan, 0.2568153209539, 0.7037120702383527, 0.6763439174192246, 0.7517875735339218, 1.0, 0.10620485600105103, 0.41571599240306817, 0.4731634061980072, 0.5714576502531129, 0.6518494503542376, 0.6975082866211201, 0.7412863888589585, 0.665011806264137, 0.5278477330582337, 0.7401771307805118, 0.7356092297610447]\n"
     ]
    }
   ],
   "source": [
    "corr_cp9 = []\n",
    "for x in df.columns:\n",
    "    corr_cp9.append(df['check_point9'].corr(df[x]))\n",
    "print(corr_cp9)"
   ]
  },
  {
   "cell_type": "code",
   "execution_count": 31,
   "id": "52ba0d03",
   "metadata": {},
   "outputs": [
    {
     "name": "stdout",
     "output_type": "stream",
     "text": [
      "[0.16113768783095833, 0.2353153783110908, 0.17044963271210659, 0.21294185551577013, -0.21375683286513528, 0.04836737604747979, -0.08550896332361167, -0.09233771790882506, -0.08743975285631252, nan, -0.001414158208832333, -0.1369777530618128]\n"
     ]
    },
    {
     "name": "stderr",
     "output_type": "stream",
     "text": [
      "C:\\Users\\dell\\anaconda3\\lib\\site-packages\\numpy\\lib\\function_base.py:2821: RuntimeWarning: Degrees of freedom <= 0 for slice\n",
      "  c = cov(x, y, rowvar, dtype=dtype)\n",
      "C:\\Users\\dell\\anaconda3\\lib\\site-packages\\numpy\\lib\\function_base.py:2680: RuntimeWarning: divide by zero encountered in true_divide\n",
      "  c *= np.true_divide(1, fact)\n"
     ]
    }
   ],
   "source": [
    "corr_w = []\n",
    "for x in df1.columns:\n",
    "    if x != 'Date/Time':\n",
    "        corr_w.append(df['check_point9'].corr(df1[x].astype(float)))\n",
    "        #print(corr_w)\n",
    "print(corr_w)"
   ]
  },
  {
   "cell_type": "code",
   "execution_count": 32,
   "id": "3d35eb69",
   "metadata": {},
   "outputs": [
    {
     "name": "stdout",
     "output_type": "stream",
     "text": [
      "[0.7843464128297005, 0.885639758047636, 0.8449413741915043, 0.6372809949388791, nan, 0.4898380860531221, 0.5529775208194136, 0.8448885548655046, 0.5812090948408859, 0.41571599240306817, 0.8981288128516378, 1.0, 0.7837777312324328, 0.8655808420491233, 0.8381825931284026, 0.41111904673111505, 0.821845085129295, 0.6924104941016797, 0.767805029352797, 0.49884390147985574, 0.6334710921045974]\n"
     ]
    }
   ],
   "source": [
    "corr_cp11 = []\n",
    "for x in df.columns:\n",
    "    corr_cp11.append(df['check_point11'].corr(df[x]))\n",
    "print(corr_cp11)"
   ]
  },
  {
   "cell_type": "code",
   "execution_count": 33,
   "id": "a725a25b",
   "metadata": {},
   "outputs": [
    {
     "name": "stdout",
     "output_type": "stream",
     "text": [
      "[-0.2553751498408534, 0.7127501365844119, 0.5794104838436317, 0.6655428289104567, -0.6631544741886488, 0.4353774559857762, -0.3334103201705073, -0.1162343607611943, -0.3356802344509603, nan, 0.13472445943876188, -0.2965259650811791]\n"
     ]
    }
   ],
   "source": [
    "corr_w = []\n",
    "for x in df1.columns:\n",
    "    if x != 'Date/Time':\n",
    "        corr_w.append(df['check_point11'].corr(df1[x].astype(float)))\n",
    "        #print(corr_w)\n",
    "print(corr_w)"
   ]
  },
  {
   "cell_type": "code",
   "execution_count": 34,
   "id": "7e1570a0",
   "metadata": {},
   "outputs": [
    {
     "name": "stdout",
     "output_type": "stream",
     "text": [
      "[0.9614795213147292, 0.8812680107602785, 0.954193611760393, 0.9308359630310584, nan, -0.25122864868610745, 0.9136108620419802, 0.9325010157972788, 0.9439317310682852, 0.7412863888589585, 0.4799093444099181, 0.821845085129295, 0.862826225195092, 0.9164182078154367, 0.9486534419354111, 0.9315078739142606, 1.0, 0.9519402217259093, 0.949595816916407, 0.9320734078027285, 0.9169446646503663]\n"
     ]
    }
   ],
   "source": [
    "corr_cp16 = []\n",
    "for x in df.columns:\n",
    "    corr_cp16.append(df['check_point16'].corr(df[x]))\n",
    "print(corr_cp16)"
   ]
  },
  {
   "cell_type": "code",
   "execution_count": 35,
   "id": "4131ce1d",
   "metadata": {},
   "outputs": [
    {
     "name": "stdout",
     "output_type": "stream",
     "text": [
      "[-0.3906558462711653, 0.4742698613992204, 0.31829661231772194, 0.4175441151367095, -0.41925571320667326, 0.09509013176501173, -0.14218228334449765, -0.2009577566681302, -0.14652648115045036, nan, -0.10360197776599117, -0.23103669856648032]\n"
     ]
    }
   ],
   "source": [
    "corr_w = []\n",
    "for x in df1.columns:\n",
    "    if x != 'Date/Time':\n",
    "        corr_w.append(df['check_point16'].corr(df1[x].astype(float)))\n",
    "        #print(corr_w)\n",
    "print(corr_w)"
   ]
  },
  {
   "cell_type": "code",
   "execution_count": null,
   "id": "a80fb788",
   "metadata": {},
   "outputs": [],
   "source": []
  },
  {
   "cell_type": "code",
   "execution_count": null,
   "id": "b69c4e60",
   "metadata": {},
   "outputs": [],
   "source": []
  },
  {
   "cell_type": "code",
   "execution_count": 36,
   "id": "2070be79",
   "metadata": {},
   "outputs": [],
   "source": [
    "# We can not see Significant correlation with weather data for the variable having missing values.\n",
    "# We will try to impute them with help of Variable having highest corelation"
   ]
  },
  {
   "cell_type": "code",
   "execution_count": 37,
   "id": "d2c343b7",
   "metadata": {},
   "outputs": [],
   "source": [
    "#predicting missing values using regression  for checkpoint 4, we will take A single variable because of MULTICOLLINIERITY \n",
    "# As most of variable are highly corelated "
   ]
  },
  {
   "cell_type": "code",
   "execution_count": 38,
   "id": "39ad1a5a",
   "metadata": {},
   "outputs": [],
   "source": [
    "import numpy as np\n",
    "from sklearn.linear_model import LinearRegression\n",
    "\n",
    "linear_regressor = LinearRegression()\n",
    "\n",
    "# Fit the model taking all available point as training data  as very less data points are available \n",
    "\n",
    "linear_regressor.fit(np.array(df['check_point0'][0:62]).reshape(-1, 1), np.array(df['check_point4'][0:62]).reshape(-1, 1))\n",
    "\n",
    "X= np.array(df['check_point0'][62:]).reshape(-1, 1)\n",
    "\n",
    "# Make predictions on the training data\n",
    "y_pred = linear_regressor.predict(X)\n"
   ]
  },
  {
   "cell_type": "code",
   "execution_count": 39,
   "id": "14681671",
   "metadata": {},
   "outputs": [],
   "source": [
    "y_pred = y_pred.reshape(257,)"
   ]
  },
  {
   "cell_type": "code",
   "execution_count": 40,
   "id": "3acfe275",
   "metadata": {},
   "outputs": [],
   "source": [
    "values = []\n",
    "for x in y_pred:\n",
    "    values.append(int(x))\n",
    "    "
   ]
  },
  {
   "cell_type": "code",
   "execution_count": 41,
   "id": "f3b57532",
   "metadata": {},
   "outputs": [
    {
     "name": "stderr",
     "output_type": "stream",
     "text": [
      "C:\\Users\\dell\\AppData\\Local\\Temp/ipykernel_14908/2338582688.py:1: SettingWithCopyWarning: \n",
      "A value is trying to be set on a copy of a slice from a DataFrame\n",
      "\n",
      "See the caveats in the documentation: https://pandas.pydata.org/pandas-docs/stable/user_guide/indexing.html#returning-a-view-versus-a-copy\n",
      "  df_checkpoint['check_point4'][62:] = values\n"
     ]
    }
   ],
   "source": [
    "df_checkpoint['check_point4'][62:] = values"
   ]
  },
  {
   "cell_type": "code",
   "execution_count": 42,
   "id": "3c75fff1",
   "metadata": {},
   "outputs": [],
   "source": [
    "# For checkpoint 9 we can see that frequency plot of checkpoint8 "
   ]
  },
  {
   "cell_type": "code",
   "execution_count": 43,
   "id": "49eb6477",
   "metadata": {},
   "outputs": [
    {
     "data": {
      "image/png": "[encoded data removed]",
      "text/plain": [
       "<Figure size 1152x576 with 1 Axes>"
      ]
     },
     "metadata": {
      "needs_background": "light"
     },
     "output_type": "display_data"
    }
   ],
   "source": [
    "plt.figure(figsize=(16, 8))  # Adjust the figure size as needed\n",
    "\n",
    "\n",
    "plt.plot(df_checkpoint['check_point9'], label='CP9')\n",
    "\n",
    "\n",
    "\n",
    "plt.plot(df_checkpoint['check_point8'], label='CP8')\n",
    "\n",
    "\n",
    "# Set the plot title and labels\n",
    "plt.title('Check_point4')\n",
    "plt.xlabel('index')\n",
    "plt.ylabel('Value')\n",
    "\n",
    "# Add a legend\n",
    "plt.legend()\n",
    "\n",
    "# Show the plot\n",
    "plt.show()"
   ]
  },
  {
   "cell_type": "code",
   "execution_count": 44,
   "id": "b08c7b6c",
   "metadata": {},
   "outputs": [],
   "source": [
    "# From the above plot we can see a drop in frequency of cycle rented at Checkpoint 8 after the data for checkpoint 9 is available \n",
    "# We will ASSUME that the checkpoint 9 was not active before and it was made active to take load of checkpoint 8"
   ]
  },
  {
   "cell_type": "code",
   "execution_count": 45,
   "id": "5982a0c9",
   "metadata": {},
   "outputs": [],
   "source": [
    "# As check point 9 was not active so we will impute 0 for the missing data  "
   ]
  },
  {
   "cell_type": "code",
   "execution_count": 46,
   "id": "ce51465b",
   "metadata": {},
   "outputs": [],
   "source": [
    "df_checkpoint['check_point9'] = df_checkpoint['check_point9'].fillna(0)"
   ]
  },
  {
   "cell_type": "code",
   "execution_count": 47,
   "id": "e46e0738",
   "metadata": {},
   "outputs": [],
   "source": [
    "# Imputing for checkpoint 11"
   ]
  },
  {
   "cell_type": "code",
   "execution_count": 48,
   "id": "f4ef2550",
   "metadata": {},
   "outputs": [
    {
     "data": {
      "text/plain": [
       "[<matplotlib.lines.Line2D at 0x1243fab30a0>]"
      ]
     },
     "execution_count": 48,
     "metadata": {},
     "output_type": "execute_result"
    },
    {
     "data": {
      "image/png": "[encoded data removed]",
      "text/plain": [
       "<Figure size 1152x576 with 1 Axes>"
      ]
     },
     "metadata": {
      "needs_background": "light"
     },
     "output_type": "display_data"
    }
   ],
   "source": [
    "plt.figure(figsize=(16, 8))  # Adjust the figure size as needed\n",
    "\n",
    "\n",
    "plt.plot(df_checkpoint['check_point11'], label='CP11')\n"
   ]
  },
  {
   "cell_type": "code",
   "execution_count": 49,
   "id": "5f178aee",
   "metadata": {},
   "outputs": [],
   "source": [
    "# Initial 2 values for Checkpoint 11 was 0 and them it start increasing and falactuating over time ,\n",
    "# it help to ASSUME the Checkpoint11 was also inactive before So we will impute it with 0"
   ]
  },
  {
   "cell_type": "code",
   "execution_count": 50,
   "id": "871a320a",
   "metadata": {},
   "outputs": [],
   "source": [
    "df_checkpoint['check_point11']=df_checkpoint['check_point11'].fillna(0)"
   ]
  },
  {
   "cell_type": "code",
   "execution_count": 51,
   "id": "90d659df",
   "metadata": {},
   "outputs": [],
   "source": [
    "## For check point 16 plotting Line chart "
   ]
  },
  {
   "cell_type": "code",
   "execution_count": 52,
   "id": "a876684d",
   "metadata": {},
   "outputs": [
    {
     "data": {
      "text/plain": [
       "[<matplotlib.lines.Line2D at 0x1243fccedf0>]"
      ]
     },
     "execution_count": 52,
     "metadata": {},
     "output_type": "execute_result"
    },
    {
     "data": {
      "image/png": "[encoded data removed]",
      "text/plain": [
       "<Figure size 1152x576 with 1 Axes>"
      ]
     },
     "metadata": {
      "needs_background": "light"
     },
     "output_type": "display_data"
    }
   ],
   "source": [
    "plt.figure(figsize=(16, 8))  # Adjust the figure size as needed\n",
    "\n",
    "\n",
    "plt.plot(df_checkpoint['check_point16'], label='CP16')"
   ]
  },
  {
   "cell_type": "code",
   "execution_count": 53,
   "id": "cfa58529",
   "metadata": {},
   "outputs": [],
   "source": [
    "# Data for checkpoint 16 starts at very high value it shows that Checkpoint 16 data was missing due to some reason and also \n",
    "#  As calculated earlier it has high corelation with Many other checkpoints we will try to regress its value using a variable\n",
    "# We will regress it with Checkpoint0 as it has hightest Corelation"
   ]
  },
  {
   "cell_type": "code",
   "execution_count": 54,
   "id": "b4bf89ce",
   "metadata": {},
   "outputs": [],
   "source": [
    "linear_regressor = LinearRegression()\n",
    "\n",
    "# Fit the model taking all available point as training data  as very less data points are available \n",
    "\n",
    "linear_regressor.fit(np.array(df['check_point0'][269:]).reshape(-1, 1), np.array(df['check_point16'][269:]).reshape(-1, 1))\n",
    "\n",
    "X= np.array(df['check_point0'][0:269]).reshape(-1, 1)\n",
    "\n",
    "\n",
    "# Make predictions on the training data\n",
    "y_pred = linear_regressor.predict(X)\n"
   ]
  },
  {
   "cell_type": "code",
   "execution_count": 55,
   "id": "a3237384",
   "metadata": {},
   "outputs": [],
   "source": [
    "y_pred = y_pred.reshape(269,)"
   ]
  },
  {
   "cell_type": "code",
   "execution_count": 56,
   "id": "e2d55146",
   "metadata": {},
   "outputs": [],
   "source": [
    "values = []\n",
    "for x in y_pred:\n",
    "    values.append(int(x))"
   ]
  },
  {
   "cell_type": "code",
   "execution_count": 57,
   "id": "cf456735",
   "metadata": {},
   "outputs": [
    {
     "name": "stderr",
     "output_type": "stream",
     "text": [
      "C:\\Users\\dell\\AppData\\Local\\Temp/ipykernel_14908/1045542151.py:1: SettingWithCopyWarning: \n",
      "A value is trying to be set on a copy of a slice from a DataFrame\n",
      "\n",
      "See the caveats in the documentation: https://pandas.pydata.org/pandas-docs/stable/user_guide/indexing.html#returning-a-view-versus-a-copy\n",
      "  df_checkpoint['check_point16'][0:269] = values\n"
     ]
    }
   ],
   "source": [
    "df_checkpoint['check_point16'][0:269] = values"
   ]
  },
  {
   "cell_type": "code",
   "execution_count": 58,
   "id": "5d019996",
   "metadata": {},
   "outputs": [
    {
     "data": {
      "text/plain": [
       "Date             0\n",
       "Time             0\n",
       "check_point0     0\n",
       "check_point1     0\n",
       "check_point2     0\n",
       "check_point3     0\n",
       "check_point4     0\n",
       "check_point5     0\n",
       "check_point6     0\n",
       "check_point7     0\n",
       "check_point8     0\n",
       "check_point9     0\n",
       "check_point10    0\n",
       "check_point11    0\n",
       "check_point12    0\n",
       "check_point13    0\n",
       "check_point14    0\n",
       "check_point15    0\n",
       "check_point16    0\n",
       "check_point17    0\n",
       "check_point18    0\n",
       "check_point19    0\n",
       "check_point20    0\n",
       "dtype: int64"
      ]
     },
     "execution_count": 58,
     "metadata": {},
     "output_type": "execute_result"
    }
   ],
   "source": [
    "df_checkpoint.isna().sum()"
   ]
  },
  {
   "cell_type": "code",
   "execution_count": 59,
   "id": "8763f233",
   "metadata": {},
   "outputs": [],
   "source": [
    "## Now Our data has no missing Values, Create Target Variable by adding all the values "
   ]
  },
  {
   "cell_type": "code",
   "execution_count": 60,
   "id": "2bf6eee2",
   "metadata": {},
   "outputs": [],
   "source": [
    "df_checkpoint['Target'] = df_checkpoint.iloc[:, 2:].sum(axis=1)"
   ]
  },
  {
   "cell_type": "code",
   "execution_count": 61,
   "id": "b8f95c5e",
   "metadata": {},
   "outputs": [],
   "source": [
    "#Plotting Target Variable"
   ]
  },
  {
   "cell_type": "code",
   "execution_count": 62,
   "id": "88ac7bae",
   "metadata": {},
   "outputs": [
    {
     "data": {
      "text/plain": [
       "[<matplotlib.lines.Line2D at 0x1243ff7cf70>]"
      ]
     },
     "execution_count": 62,
     "metadata": {},
     "output_type": "execute_result"
    },
    {
     "data": {
      "image/png": "[encoded data removed]",
      "text/plain": [
       "<Figure size 432x288 with 1 Axes>"
      ]
     },
     "metadata": {
      "needs_background": "light"
     },
     "output_type": "display_data"
    }
   ],
   "source": [
    "plt.plot(df_checkpoint['Target'])"
   ]
  },
  {
   "cell_type": "code",
   "execution_count": 63,
   "id": "c594eca4",
   "metadata": {},
   "outputs": [],
   "source": [
    "# Cheching Outliers in Target"
   ]
  },
  {
   "cell_type": "code",
   "execution_count": 64,
   "id": "fb4a2cba",
   "metadata": {},
   "outputs": [
    {
     "data": {
      "text/plain": [
       "<AxesSubplot:>"
      ]
     },
     "execution_count": 64,
     "metadata": {},
     "output_type": "execute_result"
    },
    {
     "data": {
      "image/png": "[encoded data removed]",
      "text/plain": [
       "<Figure size 432x288 with 1 Axes>"
      ]
     },
     "metadata": {
      "needs_background": "light"
     },
     "output_type": "display_data"
    }
   ],
   "source": [
    "sns.boxplot(data=df_checkpoint['Target'])"
   ]
  },
  {
   "cell_type": "code",
   "execution_count": 65,
   "id": "36a8bcaa",
   "metadata": {},
   "outputs": [],
   "source": [
    "# No Outliers in Target "
   ]
  },
  {
   "cell_type": "code",
   "execution_count": 66,
   "id": "4c57fb82",
   "metadata": {},
   "outputs": [
    {
     "name": "stdout",
     "output_type": "stream",
     "text": [
      "check_point0     0.993253\n",
      "check_point1     0.980645\n",
      "check_point2     0.996082\n",
      "check_point3     0.959783\n",
      "check_point4     0.993227\n",
      "check_point5     0.714554\n",
      "check_point6     0.863756\n",
      "check_point7     0.990441\n",
      "check_point8     0.962736\n",
      "check_point9     0.039958\n",
      "check_point10    0.835788\n",
      "check_point11    0.919353\n",
      "check_point12    0.957324\n",
      "check_point13    0.984408\n",
      "check_point14    0.988257\n",
      "check_point15    0.691701\n",
      "check_point16    0.991482\n",
      "check_point17    0.979131\n",
      "check_point18    0.968352\n",
      "check_point19    0.932271\n",
      "check_point20    0.953483\n",
      "dtype: float64\n"
     ]
    }
   ],
   "source": [
    "predictor_variables = df_checkpoint.drop(['Target','Date','Time'], axis=1)\n",
    "\n",
    "# Calculating the correlation matrix\n",
    "correlation_matrix = predictor_variables.corrwith(df_checkpoint['Target'])\n",
    "\n",
    "# Displaying the correlation values\n",
    "print(correlation_matrix)"
   ]
  },
  {
   "cell_type": "code",
   "execution_count": 67,
   "id": "ad0526bd",
   "metadata": {},
   "outputs": [],
   "source": [
    "## Most of the Variables are Showing High Corelation with Target as Target was sum of these Variables"
   ]
  },
  {
   "cell_type": "code",
   "execution_count": 68,
   "id": "179094b8",
   "metadata": {},
   "outputs": [],
   "source": [
    "#Since Weather Data is for whole year and Checkpoint data is less we will make both for eqaul number of days"
   ]
  },
  {
   "cell_type": "code",
   "execution_count": 69,
   "id": "270e77f9",
   "metadata": {},
   "outputs": [],
   "source": [
    "df_weather = df_weather[0:319]"
   ]
  },
  {
   "cell_type": "code",
   "execution_count": 70,
   "id": "68663b2d",
   "metadata": {},
   "outputs": [],
   "source": [
    "df_weather['Target'] = df_checkpoint['Target']"
   ]
  },
  {
   "cell_type": "code",
   "execution_count": 71,
   "id": "561ab303",
   "metadata": {},
   "outputs": [
    {
     "data": {
      "text/html": [
       "<div>\n",
       "<style scoped>\n",
       "    .dataframe tbody tr th:only-of-type {\n",
       "        vertical-align: middle;\n",
       "    }\n",
       "\n",
       "    .dataframe tbody tr th {\n",
       "        vertical-align: top;\n",
       "    }\n",
       "\n",
       "    .dataframe thead th {\n",
       "        text-align: right;\n",
       "    }\n",
       "</style>\n",
       "<table border=\"1\" class=\"dataframe\">\n",
       "  <thead>\n",
       "    <tr style=\"text-align: right;\">\n",
       "      <th>1</th>\n",
       "      <th>Date/Time</th>\n",
       "      <th>Year</th>\n",
       "      <th>Month</th>\n",
       "      <th>Day</th>\n",
       "      <th>Data Quality</th>\n",
       "      <th>Max Temp (°C)</th>\n",
       "      <th>Max Temp Flag</th>\n",
       "      <th>Min Temp (°C)</th>\n",
       "      <th>Min Temp Flag</th>\n",
       "      <th>Mean Temp (°C)</th>\n",
       "      <th>...</th>\n",
       "      <th>Total Snow Flag</th>\n",
       "      <th>Total Precip (mm)</th>\n",
       "      <th>Total Precip Flag</th>\n",
       "      <th>Snow on Grnd (cm)</th>\n",
       "      <th>Snow on Grnd Flag</th>\n",
       "      <th>Dir of Max Gust (10s deg)</th>\n",
       "      <th>Dir of Max Gust Flag</th>\n",
       "      <th>Spd of Max Gust (km/h)</th>\n",
       "      <th>Spd of Max Gust Flag</th>\n",
       "      <th>Target</th>\n",
       "    </tr>\n",
       "  </thead>\n",
       "  <tbody>\n",
       "    <tr>\n",
       "      <th>0</th>\n",
       "      <td>2015-01-01 00:00:00</td>\n",
       "      <td>2015</td>\n",
       "      <td>1</td>\n",
       "      <td>1</td>\n",
       "      <td>‡</td>\n",
       "      <td>-3</td>\n",
       "      <td>NaN</td>\n",
       "      <td>-7.6</td>\n",
       "      <td>NaN</td>\n",
       "      <td>-5.3</td>\n",
       "      <td>...</td>\n",
       "      <td>NaN</td>\n",
       "      <td>1.8</td>\n",
       "      <td>NaN</td>\n",
       "      <td>0</td>\n",
       "      <td>NaN</td>\n",
       "      <td>22</td>\n",
       "      <td>NaN</td>\n",
       "      <td>63</td>\n",
       "      <td>NaN</td>\n",
       "      <td>1508.0</td>\n",
       "    </tr>\n",
       "    <tr>\n",
       "      <th>1</th>\n",
       "      <td>2015-01-02 00:00:00</td>\n",
       "      <td>2015</td>\n",
       "      <td>1</td>\n",
       "      <td>2</td>\n",
       "      <td>‡</td>\n",
       "      <td>-3.4</td>\n",
       "      <td>NaN</td>\n",
       "      <td>-14.2</td>\n",
       "      <td>NaN</td>\n",
       "      <td>-8.8</td>\n",
       "      <td>...</td>\n",
       "      <td>T</td>\n",
       "      <td>0</td>\n",
       "      <td>T</td>\n",
       "      <td>1</td>\n",
       "      <td>NaN</td>\n",
       "      <td>27</td>\n",
       "      <td>NaN</td>\n",
       "      <td>50</td>\n",
       "      <td>NaN</td>\n",
       "      <td>1803.0</td>\n",
       "    </tr>\n",
       "    <tr>\n",
       "      <th>2</th>\n",
       "      <td>2015-01-03 00:00:00</td>\n",
       "      <td>2015</td>\n",
       "      <td>1</td>\n",
       "      <td>3</td>\n",
       "      <td>‡</td>\n",
       "      <td>-8.5</td>\n",
       "      <td>NaN</td>\n",
       "      <td>-17.7</td>\n",
       "      <td>NaN</td>\n",
       "      <td>-13.1</td>\n",
       "      <td>...</td>\n",
       "      <td>NaN</td>\n",
       "      <td>17</td>\n",
       "      <td>NaN</td>\n",
       "      <td>1</td>\n",
       "      <td>NaN</td>\n",
       "      <td>3</td>\n",
       "      <td>NaN</td>\n",
       "      <td>41</td>\n",
       "      <td>NaN</td>\n",
       "      <td>1778.0</td>\n",
       "    </tr>\n",
       "    <tr>\n",
       "      <th>3</th>\n",
       "      <td>2015-01-04 00:00:00</td>\n",
       "      <td>2015</td>\n",
       "      <td>1</td>\n",
       "      <td>4</td>\n",
       "      <td>‡</td>\n",
       "      <td>3</td>\n",
       "      <td>NaN</td>\n",
       "      <td>-8.6</td>\n",
       "      <td>NaN</td>\n",
       "      <td>-2.8</td>\n",
       "      <td>...</td>\n",
       "      <td>NaN</td>\n",
       "      <td>27.2</td>\n",
       "      <td>NaN</td>\n",
       "      <td>8</td>\n",
       "      <td>NaN</td>\n",
       "      <td>26</td>\n",
       "      <td>NaN</td>\n",
       "      <td>69</td>\n",
       "      <td>NaN</td>\n",
       "      <td>1071.0</td>\n",
       "    </tr>\n",
       "    <tr>\n",
       "      <th>4</th>\n",
       "      <td>2015-01-05 00:00:00</td>\n",
       "      <td>2015</td>\n",
       "      <td>1</td>\n",
       "      <td>5</td>\n",
       "      <td>‡</td>\n",
       "      <td>-5.3</td>\n",
       "      <td>NaN</td>\n",
       "      <td>-17.9</td>\n",
       "      <td>NaN</td>\n",
       "      <td>-11.6</td>\n",
       "      <td>...</td>\n",
       "      <td>T</td>\n",
       "      <td>0</td>\n",
       "      <td>T</td>\n",
       "      <td>6</td>\n",
       "      <td>NaN</td>\n",
       "      <td>27</td>\n",
       "      <td>NaN</td>\n",
       "      <td>74</td>\n",
       "      <td>NaN</td>\n",
       "      <td>1326.0</td>\n",
       "    </tr>\n",
       "  </tbody>\n",
       "</table>\n",
       "<p>5 rows × 28 columns</p>\n",
       "</div>"
      ],
      "text/plain": [
       "1            Date/Time  Year Month Day Data Quality Max Temp (°C)  \\\n",
       "0  2015-01-01 00:00:00  2015     1   1            ‡            -3   \n",
       "1  2015-01-02 00:00:00  2015     1   2            ‡          -3.4   \n",
       "2  2015-01-03 00:00:00  2015     1   3            ‡          -8.5   \n",
       "3  2015-01-04 00:00:00  2015     1   4            ‡             3   \n",
       "4  2015-01-05 00:00:00  2015     1   5            ‡          -5.3   \n",
       "\n",
       "1 Max Temp Flag Min Temp (°C) Min Temp Flag Mean Temp (°C)  ...  \\\n",
       "0           NaN          -7.6           NaN           -5.3  ...   \n",
       "1           NaN         -14.2           NaN           -8.8  ...   \n",
       "2           NaN         -17.7           NaN          -13.1  ...   \n",
       "3           NaN          -8.6           NaN           -2.8  ...   \n",
       "4           NaN         -17.9           NaN          -11.6  ...   \n",
       "\n",
       "1 Total Snow Flag Total Precip (mm) Total Precip Flag Snow on Grnd (cm)  \\\n",
       "0             NaN               1.8               NaN                 0   \n",
       "1               T                 0                 T                 1   \n",
       "2             NaN                17               NaN                 1   \n",
       "3             NaN              27.2               NaN                 8   \n",
       "4               T                 0                 T                 6   \n",
       "\n",
       "1 Snow on Grnd Flag Dir of Max Gust (10s deg) Dir of Max Gust Flag  \\\n",
       "0               NaN                        22                  NaN   \n",
       "1               NaN                        27                  NaN   \n",
       "2               NaN                         3                  NaN   \n",
       "3               NaN                        26                  NaN   \n",
       "4               NaN                        27                  NaN   \n",
       "\n",
       "1 Spd of Max Gust (km/h) Spd of Max Gust Flag  Target  \n",
       "0                     63                  NaN  1508.0  \n",
       "1                     50                  NaN  1803.0  \n",
       "2                     41                  NaN  1778.0  \n",
       "3                     69                  NaN  1071.0  \n",
       "4                     74                  NaN  1326.0  \n",
       "\n",
       "[5 rows x 28 columns]"
      ]
     },
     "execution_count": 71,
     "metadata": {},
     "output_type": "execute_result"
    }
   ],
   "source": [
    "df_weather.head()"
   ]
  },
  {
   "cell_type": "code",
   "execution_count": 72,
   "id": "f528049e",
   "metadata": {},
   "outputs": [],
   "source": [
    "# Checking and Treating NAN in weather data "
   ]
  },
  {
   "cell_type": "code",
   "execution_count": 73,
   "id": "e5c9a651",
   "metadata": {},
   "outputs": [
    {
     "data": {
      "text/plain": [
       "1\n",
       "Date/Time                      0\n",
       "Year                           0\n",
       "Month                          0\n",
       "Day                            0\n",
       "Data Quality                   0\n",
       "Max Temp (°C)                  0\n",
       "Max Temp Flag                319\n",
       "Min Temp (°C)                  0\n",
       "Min Temp Flag                318\n",
       "Mean Temp (°C)                 0\n",
       "Mean Temp Flag               318\n",
       "Heat Deg Days (°C)             0\n",
       "Heat Deg Days Flag           318\n",
       "Cool Deg Days (°C)             0\n",
       "Cool Deg Days Flag           318\n",
       "Total Rain (mm)               11\n",
       "Total Rain Flag              281\n",
       "Total Snow (cm)                3\n",
       "Total Snow Flag              294\n",
       "Total Precip (mm)              8\n",
       "Total Precip Flag            266\n",
       "Snow on Grnd (cm)            220\n",
       "Snow on Grnd Flag            319\n",
       "Dir of Max Gust (10s deg)     69\n",
       "Dir of Max Gust Flag         318\n",
       "Spd of Max Gust (km/h)         1\n",
       "Spd of Max Gust Flag         318\n",
       "Target                         0\n",
       "dtype: int64"
      ]
     },
     "execution_count": 73,
     "metadata": {},
     "output_type": "execute_result"
    }
   ],
   "source": [
    "df_weather.isna().sum()"
   ]
  },
  {
   "cell_type": "code",
   "execution_count": 74,
   "id": "be9a60ad",
   "metadata": {},
   "outputs": [],
   "source": [
    "# Removing Variables with More than 100 NAN Values, All Flag Variables  "
   ]
  },
  {
   "cell_type": "code",
   "execution_count": 75,
   "id": "61ea6289",
   "metadata": {},
   "outputs": [],
   "source": [
    "import pandas as pd\n",
    "\n",
    "\n",
    "nan_counts = df_weather.isna().sum()\n",
    "\n",
    "\n",
    "columns_to_drop = nan_counts[nan_counts > 100].index\n",
    "\n",
    "\n",
    "df_weather = df_weather.drop(columns_to_drop, axis=1)\n"
   ]
  },
  {
   "cell_type": "code",
   "execution_count": 76,
   "id": "4c5988f1",
   "metadata": {},
   "outputs": [],
   "source": [
    "df_weather['Spd of Max Gust (km/h)']=df_weather['Spd of Max Gust (km/h)'].apply(replace_31)"
   ]
  },
  {
   "cell_type": "code",
   "execution_count": 77,
   "id": "6aa55e4d",
   "metadata": {},
   "outputs": [
    {
     "data": {
      "text/html": [
       "<div>\n",
       "<style scoped>\n",
       "    .dataframe tbody tr th:only-of-type {\n",
       "        vertical-align: middle;\n",
       "    }\n",
       "\n",
       "    .dataframe tbody tr th {\n",
       "        vertical-align: top;\n",
       "    }\n",
       "\n",
       "    .dataframe thead th {\n",
       "        text-align: right;\n",
       "    }\n",
       "</style>\n",
       "<table border=\"1\" class=\"dataframe\">\n",
       "  <thead>\n",
       "    <tr style=\"text-align: right;\">\n",
       "      <th>1</th>\n",
       "      <th>Date/Time</th>\n",
       "      <th>Year</th>\n",
       "      <th>Month</th>\n",
       "      <th>Day</th>\n",
       "      <th>Data Quality</th>\n",
       "      <th>Max Temp (°C)</th>\n",
       "      <th>Min Temp (°C)</th>\n",
       "      <th>Mean Temp (°C)</th>\n",
       "      <th>Heat Deg Days (°C)</th>\n",
       "      <th>Cool Deg Days (°C)</th>\n",
       "      <th>Total Rain (mm)</th>\n",
       "      <th>Total Snow (cm)</th>\n",
       "      <th>Total Precip (mm)</th>\n",
       "      <th>Dir of Max Gust (10s deg)</th>\n",
       "      <th>Spd of Max Gust (km/h)</th>\n",
       "      <th>Target</th>\n",
       "    </tr>\n",
       "  </thead>\n",
       "  <tbody>\n",
       "    <tr>\n",
       "      <th>0</th>\n",
       "      <td>2015-01-01 00:00:00</td>\n",
       "      <td>2015</td>\n",
       "      <td>1</td>\n",
       "      <td>1</td>\n",
       "      <td>‡</td>\n",
       "      <td>-3</td>\n",
       "      <td>-7.6</td>\n",
       "      <td>-5.3</td>\n",
       "      <td>23.3</td>\n",
       "      <td>0</td>\n",
       "      <td>0</td>\n",
       "      <td>1.8</td>\n",
       "      <td>1.8</td>\n",
       "      <td>22</td>\n",
       "      <td>63.0</td>\n",
       "      <td>1508.0</td>\n",
       "    </tr>\n",
       "    <tr>\n",
       "      <th>1</th>\n",
       "      <td>2015-01-02 00:00:00</td>\n",
       "      <td>2015</td>\n",
       "      <td>1</td>\n",
       "      <td>2</td>\n",
       "      <td>‡</td>\n",
       "      <td>-3.4</td>\n",
       "      <td>-14.2</td>\n",
       "      <td>-8.8</td>\n",
       "      <td>26.8</td>\n",
       "      <td>0</td>\n",
       "      <td>0</td>\n",
       "      <td>0</td>\n",
       "      <td>0</td>\n",
       "      <td>27</td>\n",
       "      <td>50.0</td>\n",
       "      <td>1803.0</td>\n",
       "    </tr>\n",
       "    <tr>\n",
       "      <th>2</th>\n",
       "      <td>2015-01-03 00:00:00</td>\n",
       "      <td>2015</td>\n",
       "      <td>1</td>\n",
       "      <td>3</td>\n",
       "      <td>‡</td>\n",
       "      <td>-8.5</td>\n",
       "      <td>-17.7</td>\n",
       "      <td>-13.1</td>\n",
       "      <td>31.1</td>\n",
       "      <td>0</td>\n",
       "      <td>0</td>\n",
       "      <td>17</td>\n",
       "      <td>17</td>\n",
       "      <td>3</td>\n",
       "      <td>41.0</td>\n",
       "      <td>1778.0</td>\n",
       "    </tr>\n",
       "    <tr>\n",
       "      <th>3</th>\n",
       "      <td>2015-01-04 00:00:00</td>\n",
       "      <td>2015</td>\n",
       "      <td>1</td>\n",
       "      <td>4</td>\n",
       "      <td>‡</td>\n",
       "      <td>3</td>\n",
       "      <td>-8.6</td>\n",
       "      <td>-2.8</td>\n",
       "      <td>20.8</td>\n",
       "      <td>0</td>\n",
       "      <td>26.8</td>\n",
       "      <td>0.4</td>\n",
       "      <td>27.2</td>\n",
       "      <td>26</td>\n",
       "      <td>69.0</td>\n",
       "      <td>1071.0</td>\n",
       "    </tr>\n",
       "    <tr>\n",
       "      <th>4</th>\n",
       "      <td>2015-01-05 00:00:00</td>\n",
       "      <td>2015</td>\n",
       "      <td>1</td>\n",
       "      <td>5</td>\n",
       "      <td>‡</td>\n",
       "      <td>-5.3</td>\n",
       "      <td>-17.9</td>\n",
       "      <td>-11.6</td>\n",
       "      <td>29.6</td>\n",
       "      <td>0</td>\n",
       "      <td>0</td>\n",
       "      <td>0</td>\n",
       "      <td>0</td>\n",
       "      <td>27</td>\n",
       "      <td>74.0</td>\n",
       "      <td>1326.0</td>\n",
       "    </tr>\n",
       "  </tbody>\n",
       "</table>\n",
       "</div>"
      ],
      "text/plain": [
       "1            Date/Time  Year Month Day Data Quality Max Temp (°C)  \\\n",
       "0  2015-01-01 00:00:00  2015     1   1            ‡            -3   \n",
       "1  2015-01-02 00:00:00  2015     1   2            ‡          -3.4   \n",
       "2  2015-01-03 00:00:00  2015     1   3            ‡          -8.5   \n",
       "3  2015-01-04 00:00:00  2015     1   4            ‡             3   \n",
       "4  2015-01-05 00:00:00  2015     1   5            ‡          -5.3   \n",
       "\n",
       "1 Min Temp (°C) Mean Temp (°C) Heat Deg Days (°C) Cool Deg Days (°C)  \\\n",
       "0          -7.6           -5.3               23.3                  0   \n",
       "1         -14.2           -8.8               26.8                  0   \n",
       "2         -17.7          -13.1               31.1                  0   \n",
       "3          -8.6           -2.8               20.8                  0   \n",
       "4         -17.9          -11.6               29.6                  0   \n",
       "\n",
       "1 Total Rain (mm) Total Snow (cm) Total Precip (mm) Dir of Max Gust (10s deg)  \\\n",
       "0               0             1.8               1.8                        22   \n",
       "1               0               0                 0                        27   \n",
       "2               0              17                17                         3   \n",
       "3            26.8             0.4              27.2                        26   \n",
       "4               0               0                 0                        27   \n",
       "\n",
       "1  Spd of Max Gust (km/h)  Target  \n",
       "0                    63.0  1508.0  \n",
       "1                    50.0  1803.0  \n",
       "2                    41.0  1778.0  \n",
       "3                    69.0  1071.0  \n",
       "4                    74.0  1326.0  "
      ]
     },
     "execution_count": 77,
     "metadata": {},
     "output_type": "execute_result"
    }
   ],
   "source": [
    "df_weather.head()"
   ]
  },
  {
   "cell_type": "code",
   "execution_count": 78,
   "id": "2b51b190",
   "metadata": {},
   "outputs": [],
   "source": [
    "# As it is weather data Replacing NAN Values with Avg of Last 3 days "
   ]
  },
  {
   "cell_type": "code",
   "execution_count": 79,
   "id": "c82fda60",
   "metadata": {},
   "outputs": [
    {
     "name": "stderr",
     "output_type": "stream",
     "text": [
      "C:\\Users\\dell\\AppData\\Local\\Temp/ipykernel_14908/1890792629.py:10: SettingWithCopyWarning: \n",
      "A value is trying to be set on a copy of a slice from a DataFrame\n",
      "\n",
      "See the caveats in the documentation: https://pandas.pydata.org/pandas-docs/stable/user_guide/indexing.html#returning-a-view-versus-a-copy\n",
      "  df_weather[x][i] = avg\n"
     ]
    }
   ],
   "source": [
    "for x in df_weather.columns:\n",
    "    # Iterate over each value in the column\n",
    "    for i in range(len(df_weather[x])):\n",
    "        # Check if the value is NaN\n",
    "        if pd.isnull(df_weather[x][i]):\n",
    "            # Calculate the average of the last three non-NaN values\n",
    "            avg = np.nanmean(df_weather[x][max(0, i-3):i])\n",
    "            \n",
    "            # Replace NaN with the calculated average\n",
    "            df_weather[x][i] = avg"
   ]
  },
  {
   "cell_type": "code",
   "execution_count": 80,
   "id": "d9c059d3",
   "metadata": {},
   "outputs": [
    {
     "data": {
      "text/plain": [
       "1\n",
       "Date/Time                    0\n",
       "Year                         0\n",
       "Month                        0\n",
       "Day                          0\n",
       "Data Quality                 0\n",
       "Max Temp (°C)                0\n",
       "Min Temp (°C)                0\n",
       "Mean Temp (°C)               0\n",
       "Heat Deg Days (°C)           0\n",
       "Cool Deg Days (°C)           0\n",
       "Total Rain (mm)              0\n",
       "Total Snow (cm)              0\n",
       "Total Precip (mm)            0\n",
       "Dir of Max Gust (10s deg)    0\n",
       "Spd of Max Gust (km/h)       0\n",
       "Target                       0\n",
       "dtype: int64"
      ]
     },
     "execution_count": 80,
     "metadata": {},
     "output_type": "execute_result"
    }
   ],
   "source": [
    "df_weather.isna().sum()"
   ]
  },
  {
   "cell_type": "code",
   "execution_count": 81,
   "id": "0878bdfa",
   "metadata": {},
   "outputs": [],
   "source": [
    "# Corelation of target with Weather Variables"
   ]
  },
  {
   "cell_type": "code",
   "execution_count": 82,
   "id": "95ff51bc",
   "metadata": {},
   "outputs": [
    {
     "name": "stdout",
     "output_type": "stream",
     "text": [
      "1\n",
      "Month                        0.580846\n",
      "Day                          0.022049\n",
      "Max Temp (°C)                0.860722\n",
      "Min Temp (°C)                0.823679\n",
      "Mean Temp (°C)               0.848957\n",
      "Heat Deg Days (°C)          -0.847278\n",
      "Cool Deg Days (°C)           0.468424\n",
      "Total Rain (mm)             -0.033023\n",
      "Total Snow (cm)             -0.346968\n",
      "Total Precip (mm)           -0.117545\n",
      "Dir of Max Gust (10s deg)    0.104537\n",
      "Spd of Max Gust (km/h)      -0.215326\n",
      "dtype: float64\n"
     ]
    }
   ],
   "source": [
    "predictor_variables = df_weather.drop(['Date/Time','Year','Data Quality','Target'], axis=1).astype(float)\n",
    "\n",
    "# Calculating the correlation matrix\n",
    "correlation_matrix = predictor_variables.corrwith(df_weather['Target'])\n",
    "\n",
    "# Displaying the correlation values\n",
    "print(correlation_matrix)"
   ]
  },
  {
   "cell_type": "code",
   "execution_count": 83,
   "id": "5c052acd",
   "metadata": {},
   "outputs": [],
   "source": [
    "# Rain must show good correaltion but due to many zero values corelation is less Other Variable is showing good correlation \n",
    "# Also Temp Variables showing High Correlations with cycle rented on that day "
   ]
  },
  {
   "cell_type": "code",
   "execution_count": 84,
   "id": "eac1dc6c",
   "metadata": {},
   "outputs": [],
   "source": [
    "# Creating Final Dataset for Deep Learning Model,\n",
    "# We will merge Weather Data with Checkpoint Data "
   ]
  },
  {
   "cell_type": "code",
   "execution_count": 85,
   "id": "fcee5d80",
   "metadata": {},
   "outputs": [],
   "source": [
    "df_weather['Date/Time'] = pd.to_datetime(df_weather['Date/Time'])\n",
    "df_weather.set_index('Date/Time', inplace=True)\n",
    "df_checkpoint['Date']  = pd.to_datetime(df_checkpoint['Date'])\n",
    "df_checkpoint.set_index('Date', inplace=True)"
   ]
  },
  {
   "cell_type": "code",
   "execution_count": null,
   "id": "2a068f48",
   "metadata": {},
   "outputs": [],
   "source": []
  },
  {
   "cell_type": "code",
   "execution_count": 86,
   "id": "be05e55d",
   "metadata": {},
   "outputs": [],
   "source": [
    "#Create Weekday Variable as it may be important for rented Cycles"
   ]
  },
  {
   "cell_type": "code",
   "execution_count": 87,
   "id": "9f10f53c",
   "metadata": {},
   "outputs": [],
   "source": [
    "#Create Weekday column\n",
    "df_weather['weekday'] = df_weather.index.weekday"
   ]
  },
  {
   "cell_type": "code",
   "execution_count": 88,
   "id": "5ba36538",
   "metadata": {},
   "outputs": [],
   "source": [
    "merged_data = pd.merge(df_weather, df_checkpoint, left_index=True, right_index=True)"
   ]
  },
  {
   "cell_type": "code",
   "execution_count": 89,
   "id": "7a25478b",
   "metadata": {},
   "outputs": [],
   "source": [
    "# Dropping some Unneccessary  Variables \n",
    "# Dropping Checkpoint 9 , Checkpoint 15 and checkpoint 5 as it have low corelation also it will mitigate the bais as target variable is the sum."
   ]
  },
  {
   "cell_type": "code",
   "execution_count": 90,
   "id": "b3abbd47",
   "metadata": {},
   "outputs": [],
   "source": [
    "merged_data = merged_data.drop(['Target_x','Data Quality','check_point9','check_point15','check_point5','Time','Year','Day'],axis =1)"
   ]
  },
  {
   "cell_type": "code",
   "execution_count": 91,
   "id": "414ab61a",
   "metadata": {},
   "outputs": [
    {
     "name": "stdout",
     "output_type": "stream",
     "text": [
      "<class 'pandas.core.frame.DataFrame'>\n",
      "DatetimeIndex: 308 entries, 2015-01-01 to 2015-11-15\n",
      "Data columns (total 31 columns):\n",
      " #   Column                     Non-Null Count  Dtype  \n",
      "---  ------                     --------------  -----  \n",
      " 0   Month                      308 non-null    object \n",
      " 1   Max Temp (°C)              308 non-null    object \n",
      " 2   Min Temp (°C)              308 non-null    object \n",
      " 3   Mean Temp (°C)             308 non-null    object \n",
      " 4   Heat Deg Days (°C)         308 non-null    object \n",
      " 5   Cool Deg Days (°C)         308 non-null    object \n",
      " 6   Total Rain (mm)            308 non-null    object \n",
      " 7   Total Snow (cm)            308 non-null    object \n",
      " 8   Total Precip (mm)          308 non-null    object \n",
      " 9   Dir of Max Gust (10s deg)  308 non-null    object \n",
      " 10  Spd of Max Gust (km/h)     308 non-null    float64\n",
      " 11  weekday                    308 non-null    int64  \n",
      " 12  check_point0               308 non-null    int64  \n",
      " 13  check_point1               308 non-null    int64  \n",
      " 14  check_point2               308 non-null    int64  \n",
      " 15  check_point3               308 non-null    int64  \n",
      " 16  check_point4               308 non-null    float64\n",
      " 17  check_point6               308 non-null    int64  \n",
      " 18  check_point7               308 non-null    int64  \n",
      " 19  check_point8               308 non-null    int64  \n",
      " 20  check_point10              308 non-null    int64  \n",
      " 21  check_point11              308 non-null    float64\n",
      " 22  check_point12              308 non-null    int64  \n",
      " 23  check_point13              308 non-null    int64  \n",
      " 24  check_point14              308 non-null    int64  \n",
      " 25  check_point16              308 non-null    float64\n",
      " 26  check_point17              308 non-null    int64  \n",
      " 27  check_point18              308 non-null    int64  \n",
      " 28  check_point19              308 non-null    int64  \n",
      " 29  check_point20              308 non-null    int64  \n",
      " 30  Target_y                   308 non-null    float64\n",
      "dtypes: float64(5), int64(16), object(10)\n",
      "memory usage: 77.0+ KB\n"
     ]
    }
   ],
   "source": [
    "merged_data.info()"
   ]
  },
  {
   "cell_type": "code",
   "execution_count": 92,
   "id": "3942f151",
   "metadata": {},
   "outputs": [],
   "source": [
    "# Convert all columns to Float or Int type "
   ]
  },
  {
   "cell_type": "code",
   "execution_count": 93,
   "id": "3b99c61b",
   "metadata": {},
   "outputs": [],
   "source": [
    "object_columns = merged_data.select_dtypes(include='object').columns\n",
    "\n",
    "merged_data[object_columns] = merged_data[object_columns].astype(float)"
   ]
  },
  {
   "cell_type": "code",
   "execution_count": 94,
   "id": "62fe168f",
   "metadata": {},
   "outputs": [],
   "source": [
    "# We will USe LSTM model , Since it can campture Sequential information we don't need to create lag and rolling mean Variables"
   ]
  },
  {
   "cell_type": "code",
   "execution_count": 96,
   "id": "433b2431",
   "metadata": {},
   "outputs": [
    {
     "name": "stdout",
     "output_type": "stream",
     "text": [
      "Epoch 1/50\n",
      "8/8 [==============================] - 3s 7ms/step - loss: 99.9997\n",
      "Epoch 2/50\n",
      "8/8 [==============================] - 0s 4ms/step - loss: 99.9979\n",
      "Epoch 3/50\n",
      "8/8 [==============================] - 0s 6ms/step - loss: 99.9954\n",
      "Epoch 4/50\n",
      "8/8 [==============================] - 0s 6ms/step - loss: 99.9915\n",
      "Epoch 5/50\n",
      "8/8 [==============================] - 0s 5ms/step - loss: 99.9849\n",
      "Epoch 6/50\n",
      "8/8 [==============================] - 0s 6ms/step - loss: 99.9717\n",
      "Epoch 7/50\n",
      "8/8 [==============================] - 0s 6ms/step - loss: 99.9456\n",
      "Epoch 8/50\n",
      "8/8 [==============================] - 0s 5ms/step - loss: 99.8897\n",
      "Epoch 9/50\n",
      "8/8 [==============================] - 0s 6ms/step - loss: 99.7846\n",
      "Epoch 10/50\n",
      "8/8 [==============================] - 0s 6ms/step - loss: 99.6061\n",
      "Epoch 11/50\n",
      "8/8 [==============================] - 0s 7ms/step - loss: 99.3641\n",
      "Epoch 12/50\n",
      "8/8 [==============================] - 0s 6ms/step - loss: 99.0490\n",
      "Epoch 13/50\n",
      "8/8 [==============================] - 0s 7ms/step - loss: 98.5822\n",
      "Epoch 14/50\n",
      "8/8 [==============================] - 0s 6ms/step - loss: 97.9736\n",
      "Epoch 15/50\n",
      "8/8 [==============================] - 0s 7ms/step - loss: 97.0299\n",
      "Epoch 16/50\n",
      "8/8 [==============================] - 0s 7ms/step - loss: 95.9305\n",
      "Epoch 17/50\n",
      "8/8 [==============================] - 0s 5ms/step - loss: 94.2565\n",
      "Epoch 18/50\n",
      "8/8 [==============================] - 0s 6ms/step - loss: 92.1841\n",
      "Epoch 19/50\n",
      "8/8 [==============================] - 0s 8ms/step - loss: 89.9541\n",
      "Epoch 20/50\n",
      "8/8 [==============================] - 0s 7ms/step - loss: 88.4676\n",
      "Epoch 21/50\n",
      "8/8 [==============================] - 0s 8ms/step - loss: 87.4046\n",
      "Epoch 22/50\n",
      "8/8 [==============================] - 0s 6ms/step - loss: 86.6273\n",
      "Epoch 23/50\n",
      "8/8 [==============================] - 0s 6ms/step - loss: 86.0782\n",
      "Epoch 24/50\n",
      "8/8 [==============================] - 0s 6ms/step - loss: 85.4366\n",
      "Epoch 25/50\n",
      "8/8 [==============================] - 0s 6ms/step - loss: 84.7692\n",
      "Epoch 26/50\n",
      "8/8 [==============================] - 0s 7ms/step - loss: 84.1127\n",
      "Epoch 27/50\n",
      "8/8 [==============================] - 0s 8ms/step - loss: 83.5305\n",
      "Epoch 28/50\n",
      "8/8 [==============================] - 0s 7ms/step - loss: 82.9223\n",
      "Epoch 29/50\n",
      "8/8 [==============================] - 0s 7ms/step - loss: 82.4255\n",
      "Epoch 30/50\n",
      "8/8 [==============================] - 0s 7ms/step - loss: 81.8071\n",
      "Epoch 31/50\n",
      "8/8 [==============================] - 0s 6ms/step - loss: 81.1767\n",
      "Epoch 32/50\n",
      "8/8 [==============================] - 0s 6ms/step - loss: 80.4570\n",
      "Epoch 33/50\n",
      "8/8 [==============================] - 0s 9ms/step - loss: 79.5972\n",
      "Epoch 34/50\n",
      "8/8 [==============================] - 0s 7ms/step - loss: 78.8182\n",
      "Epoch 35/50\n",
      "8/8 [==============================] - 0s 7ms/step - loss: 78.1936\n",
      "Epoch 36/50\n",
      "8/8 [==============================] - 0s 8ms/step - loss: 77.5189\n",
      "Epoch 37/50\n",
      "8/8 [==============================] - 0s 7ms/step - loss: 76.8523\n",
      "Epoch 38/50\n",
      "8/8 [==============================] - 0s 7ms/step - loss: 76.4319\n",
      "Epoch 39/50\n",
      "8/8 [==============================] - 0s 7ms/step - loss: 76.0608\n",
      "Epoch 40/50\n",
      "8/8 [==============================] - 0s 7ms/step - loss: 75.7892\n",
      "Epoch 41/50\n",
      "8/8 [==============================] - 0s 8ms/step - loss: 75.4177\n",
      "Epoch 42/50\n",
      "8/8 [==============================] - 0s 9ms/step - loss: 75.1572\n",
      "Epoch 43/50\n",
      "8/8 [==============================] - 0s 9ms/step - loss: 74.8624\n",
      "Epoch 44/50\n",
      "8/8 [==============================] - 0s 7ms/step - loss: 74.6523\n",
      "Epoch 45/50\n",
      "8/8 [==============================] - 0s 6ms/step - loss: 74.3651\n",
      "Epoch 46/50\n",
      "8/8 [==============================] - 0s 6ms/step - loss: 74.1343\n",
      "Epoch 47/50\n",
      "8/8 [==============================] - 0s 6ms/step - loss: 73.9862\n",
      "Epoch 48/50\n",
      "8/8 [==============================] - 0s 6ms/step - loss: 73.7859\n",
      "Epoch 49/50\n",
      "8/8 [==============================] - 0s 9ms/step - loss: 73.7065\n",
      "Epoch 50/50\n",
      "8/8 [==============================] - 0s 7ms/step - loss: 73.6138\n",
      "3/3 [==============================] - 0s 4ms/step\n",
      "MAPE: 87.4805566937644\n"
     ]
    }
   ],
   "source": [
    "import numpy as np\n",
    "import pandas as pd\n",
    "from sklearn.model_selection import train_test_split\n",
    "from keras.models import Sequential\n",
    "from keras.layers import LSTM, Dense\n",
    "from sklearn.preprocessing import MinMaxScaler\n",
    "from keras.losses import mean_absolute_percentage_error\n",
    "\n",
    "# Assuming you have a DataFrame called 'data' with your time series data\n",
    "# and the target variable is in the column named 'target'\n",
    "\n",
    "# Convert the data to a numpy array\n",
    "data_values = merged_data.values\n",
    "\n",
    "# Separate the features and target variable\n",
    "X = data_values[:, :30]\n",
    "y = data_values[:, 30]\n",
    "\n",
    "# Normalize the features using MinMaxScaler\n",
    "scaler = MinMaxScaler(feature_range=(0, 1))\n",
    "X_scaled = scaler.fit_transform(X)\n",
    "\n",
    "# Define the number of previous time steps to use for prediction\n",
    "n_steps = 3\n",
    "\n",
    "# Split the data into input (X) and output (y) variables\n",
    "X_processed = []\n",
    "y_processed = []\n",
    "for i in range(n_steps, len(X_scaled)):\n",
    "    X_processed.append(X_scaled[i-n_steps:i, :])\n",
    "    y_processed.append(y[i])\n",
    "X_processed = np.array(X_processed)\n",
    "y_processed = np.array(y_processed)\n",
    "\n",
    "# Reshape the input data to be 3-dimensional [samples, timesteps, features]\n",
    "n_features = X_processed.shape[2]\n",
    "X_processed = X_processed.reshape((X_processed.shape[0], X_processed.shape[1], n_features))\n",
    "\n",
    "# Split the data into train and test sets\n",
    "X_train, X_test, y_train, y_test = train_test_split(X_processed, y_processed, test_size=0.25, shuffle=False)\n",
    "\n",
    "# Define the LSTM model\n",
    "model = Sequential()\n",
    "model.add(LSTM(50, activation='relu', input_shape=(n_steps, n_features)))\n",
    "model.add(Dense(1))\n",
    "\n",
    "# Compile the model with MAPE loss\n",
    "model.compile(optimizer='adam', loss=mean_absolute_percentage_error)\n",
    "\n",
    "# Fit the model to the training data\n",
    "model.fit(X_train, y_train, epochs=50, batch_size=32)\n",
    "\n",
    "# Make predictions on the test data\n",
    "predictions = model.predict(X_test)\n",
    "\n",
    "# Calculate MAPE\n",
    "mape = np.mean(np.abs((y_test - predictions) / y_test)) * 100\n",
    "\n",
    "# Display MAPE\n",
    "print(\"MAPE:\", mape)\n"
   ]
  },
  {
   "cell_type": "code",
   "execution_count": 100,
   "id": "518c00b6",
   "metadata": {},
   "outputs": [
    {
     "name": "stderr",
     "output_type": "stream",
     "text": [
      "C:\\Users\\dell\\AppData\\Local\\Temp/ipykernel_14908/1556326899.py:47: DeprecationWarning: KerasRegressor is deprecated, use Sci-Keras (https://github.com/adriangb/scikeras) instead. See https://www.adriangb.com/scikeras/stable/migration.html for help migrating.\n",
      "  model = KerasRegressor(build_fn=create_model, verbose=0)\n"
     ]
    },
    {
     "name": "stdout",
     "output_type": "stream",
     "text": [
      "Best Parameters: {'activation': 'tanh', 'learning_rate': 0.01, 'units': 100}\n",
      "Best MAPE: 0.9999090683349928\n"
     ]
    }
   ],
   "source": [
    "from sklearn.model_selection import GridSearchCV, TimeSeriesSplit\n",
    "from keras.models import Sequential\n",
    "from keras.layers import LSTM, Dense\n",
    "from sklearn.preprocessing import MinMaxScaler\n",
    "from keras.losses import mean_absolute_percentage_error\n",
    "from keras.wrappers.scikit_learn import KerasRegressor\n",
    "\n",
    "\n",
    "# Convert the data to a numpy array\n",
    "data_values = merged_data.values\n",
    "\n",
    "# Separate the features and target variable\n",
    "X = data_values[:, :30]\n",
    "y = data_values[:, 30]\n",
    "\n",
    "# Normalize the features using MinMaxScaler\n",
    "scaler = MinMaxScaler(feature_range=(0, 1))\n",
    "X_scaled = scaler.fit_transform(X)\n",
    "\n",
    "# Define the number of previous time steps to use for prediction\n",
    "n_steps = 7\n",
    "\n",
    "# Split the data into input (X) and output (y) variables\n",
    "X_processed = []\n",
    "y_processed = []\n",
    "for i in range(n_steps, len(X_scaled)):\n",
    "    X_processed.append(X_scaled[i-n_steps:i, :])\n",
    "    y_processed.append(y[i])\n",
    "X_processed = np.array(X_processed)\n",
    "y_processed = np.array(y_processed)\n",
    "\n",
    "# Reshape the input data to be 3-dimensional [samples, timesteps, features]\n",
    "n_features = X_processed.shape[2]\n",
    "X_processed = X_processed.reshape((X_processed.shape[0], X_processed.shape[1], n_features))\n",
    "\n",
    "# Define the LSTM model\n",
    "def create_model(activation='relu', units=50, learning_rate=0.001):\n",
    "    model = Sequential()\n",
    "    model.add(LSTM(units, activation=activation, input_shape=(n_steps, n_features)))\n",
    "    model.add(Dense(1))\n",
    "    model.compile(optimizer='adam', loss=mean_absolute_percentage_error)\n",
    "    return model\n",
    "\n",
    "# Create KerasRegressor wrapper\n",
    "model = KerasRegressor(build_fn=create_model, verbose=0)\n",
    "\n",
    "# Define the hyperparameters to tune\n",
    "param_grid = {\n",
    "    'activation': ['relu', 'tanh'],\n",
    "    'units': [50,70, 100],\n",
    "    'learning_rate': [0.001,0.005,0.01]\n",
    "}\n",
    "\n",
    "# Perform grid search cross-validation\n",
    "grid = GridSearchCV(estimator=model, param_grid=param_grid, cv=TimeSeriesSplit(n_splits=5), scoring='neg_mean_absolute_percentage_error')\n",
    "grid_result = grid.fit(X_processed, y_processed)\n",
    "\n",
    "# Get the best model and its parameters\n",
    "best_model = grid_result.best_estimator_\n",
    "best_params = grid_result.best_params_\n",
    "\n",
    "# Print the best parameters and MAPE\n",
    "print(\"Best Parameters:\", best_params)\n",
    "print(\"Best MAPE:\", -grid_result.best_score_)\n"
   ]
  },
  {
   "cell_type": "code",
   "execution_count": null,
   "id": "f3ac7e9a",
   "metadata": {},
   "outputs": [],
   "source": [
    "# Without tuning results seems much better,but while tunning with Grid search we use cross validation\n",
    "# Cross Validations results are much closer to the real results "
   ]
  },
  {
   "cell_type": "code",
   "execution_count": null,
   "id": "4bde7fb1",
   "metadata": {},
   "outputs": [],
   "source": []
  }
 ],
 "metadata": {
  "kernelspec": {
   "display_name": "Python 3 (ipykernel)",
   "language": "python",
   "name": "python3"
  },
  "language_info": {
   "codemirror_mode": {
    "name": "ipython",
    "version": 3
   },
   "file_extension": ".py",
   "mimetype": "text/x-python",
   "name": "python",
   "nbconvert_exporter": "python",
   "pygments_lexer": "ipython3",
   "version": "3.9.7"
  }
 },
 "nbformat": 4,
 "nbformat_minor": 5
}
